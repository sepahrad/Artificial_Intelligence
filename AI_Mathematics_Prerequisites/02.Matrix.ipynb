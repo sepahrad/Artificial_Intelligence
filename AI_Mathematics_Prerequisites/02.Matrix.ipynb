{
 "cells": [
  {
   "cell_type": "code",
   "execution_count": 1,
   "metadata": {
    "executionInfo": {
     "elapsed": 220,
     "status": "ok",
     "timestamp": 1739870039626,
     "user": {
      "displayName": "Sepahrad Salour",
      "userId": "05630196790215108512"
     },
     "user_tz": 0
    },
    "id": "IKCq_5QKU7eZ"
   },
   "outputs": [],
   "source": [
    "import numpy as np"
   ]
  },
  {
   "cell_type": "code",
   "execution_count": 2,
   "metadata": {
    "executionInfo": {
     "elapsed": 225,
     "status": "ok",
     "timestamp": 1739870042507,
     "user": {
      "displayName": "Sepahrad Salour",
      "userId": "05630196790215108512"
     },
     "user_tz": 0
    },
    "id": "AgSdukz6VHAU"
   },
   "outputs": [],
   "source": [
    "a = np.array([[6, 4, 24], [1, -9, 8]])"
   ]
  },
  {
   "cell_type": "code",
   "execution_count": 3,
   "metadata": {
    "colab": {
     "base_uri": "https://localhost:8080/"
    },
    "executionInfo": {
     "elapsed": 231,
     "status": "ok",
     "timestamp": 1739870054672,
     "user": {
      "displayName": "Sepahrad Salour",
      "userId": "05630196790215108512"
     },
     "user_tz": 0
    },
    "id": "eSHz6DmDVYwC",
    "outputId": "e504817e-6437-490e-f0c2-32265a0227ab"
   },
   "outputs": [
    {
     "name": "stdout",
     "output_type": "stream",
     "text": [
      "[[ 6  4 24]\n",
      " [ 1 -9  8]]\n"
     ]
    }
   ],
   "source": [
    "print(a)"
   ]
  },
  {
   "cell_type": "code",
   "execution_count": 4,
   "metadata": {
    "colab": {
     "base_uri": "https://localhost:8080/"
    },
    "executionInfo": {
     "elapsed": 204,
     "status": "ok",
     "timestamp": 1739870084789,
     "user": {
      "displayName": "Sepahrad Salour",
      "userId": "05630196790215108512"
     },
     "user_tz": 0
    },
    "id": "DCb2ly4TVibv",
    "outputId": "2d78e0bf-ecf3-4442-ffc7-1398f57d5576"
   },
   "outputs": [
    {
     "data": {
      "text/plain": [
       "numpy.ndarray"
      ]
     },
     "execution_count": 4,
     "metadata": {},
     "output_type": "execute_result"
    }
   ],
   "source": [
    "type(a)"
   ]
  },
  {
   "cell_type": "code",
   "execution_count": 5,
   "metadata": {
    "colab": {
     "base_uri": "https://localhost:8080/"
    },
    "executionInfo": {
     "elapsed": 278,
     "status": "ok",
     "timestamp": 1739870098220,
     "user": {
      "displayName": "Sepahrad Salour",
      "userId": "05630196790215108512"
     },
     "user_tz": 0
    },
    "id": "e-rgP2U1Vpr_",
    "outputId": "46fb2466-c1db-4e74-88cd-8ed1bf3d6b14"
   },
   "outputs": [
    {
     "data": {
      "text/plain": [
       "(2, 3)"
      ]
     },
     "execution_count": 5,
     "metadata": {},
     "output_type": "execute_result"
    }
   ],
   "source": [
    "a.shape"
   ]
  },
  {
   "cell_type": "code",
   "execution_count": 6,
   "metadata": {
    "colab": {
     "base_uri": "https://localhost:8080/"
    },
    "executionInfo": {
     "elapsed": 3,
     "status": "ok",
     "timestamp": 1739870112822,
     "user": {
      "displayName": "Sepahrad Salour",
      "userId": "05630196790215108512"
     },
     "user_tz": 0
    },
    "id": "fvbuzyqPVrhU",
    "outputId": "2e008e4c-d524-4404-a8f6-3e4e934c2423"
   },
   "outputs": [
    {
     "data": {
      "text/plain": [
       "array([ 6,  4, 24])"
      ]
     },
     "execution_count": 6,
     "metadata": {},
     "output_type": "execute_result"
    }
   ],
   "source": [
    "a[0]"
   ]
  },
  {
   "cell_type": "code",
   "execution_count": 7,
   "metadata": {
    "colab": {
     "base_uri": "https://localhost:8080/"
    },
    "executionInfo": {
     "elapsed": 3,
     "status": "ok",
     "timestamp": 1739870119074,
     "user": {
      "displayName": "Sepahrad Salour",
      "userId": "05630196790215108512"
     },
     "user_tz": 0
    },
    "id": "4RWmVR-aVvaV",
    "outputId": "88f66bf3-7a94-42bc-d0d9-f50e25a670f1"
   },
   "outputs": [
    {
     "data": {
      "text/plain": [
       "6"
      ]
     },
     "execution_count": 7,
     "metadata": {},
     "output_type": "execute_result"
    }
   ],
   "source": [
    "a[0][0]"
   ]
  },
  {
   "cell_type": "code",
   "execution_count": 8,
   "metadata": {
    "colab": {
     "base_uri": "https://localhost:8080/"
    },
    "executionInfo": {
     "elapsed": 208,
     "status": "ok",
     "timestamp": 1739870152536,
     "user": {
      "displayName": "Sepahrad Salour",
      "userId": "05630196790215108512"
     },
     "user_tz": 0
    },
    "id": "aUZcl78RVyKm",
    "outputId": "0b6fa766-68a2-4a4f-f147-572c0343dfe7"
   },
   "outputs": [
    {
     "data": {
      "text/plain": [
       "array([6, 1])"
      ]
     },
     "execution_count": 8,
     "metadata": {},
     "output_type": "execute_result"
    }
   ],
   "source": [
    "a[:, 0]"
   ]
  },
  {
   "cell_type": "code",
   "execution_count": 9,
   "metadata": {
    "colab": {
     "base_uri": "https://localhost:8080/"
    },
    "executionInfo": {
     "elapsed": 215,
     "status": "ok",
     "timestamp": 1739870165813,
     "user": {
      "displayName": "Sepahrad Salour",
      "userId": "05630196790215108512"
     },
     "user_tz": 0
    },
    "id": "9XIqvGlVV6Ve",
    "outputId": "68e072e9-7c84-4572-d668-354ef5deb869"
   },
   "outputs": [
    {
     "data": {
      "text/plain": [
       "array([ 4, -9])"
      ]
     },
     "execution_count": 9,
     "metadata": {},
     "output_type": "execute_result"
    }
   ],
   "source": [
    "a[:, 1]"
   ]
  },
  {
   "cell_type": "code",
   "execution_count": 10,
   "metadata": {
    "executionInfo": {
     "elapsed": 225,
     "status": "ok",
     "timestamp": 1739870477435,
     "user": {
      "displayName": "Sepahrad Salour",
      "userId": "05630196790215108512"
     },
     "user_tz": 0
    },
    "id": "3rE_1uKMV9kx"
   },
   "outputs": [],
   "source": [
    "a = np.array([[6, 4, 24], [1, -9, 8], [1, 2, 4]])"
   ]
  },
  {
   "cell_type": "code",
   "execution_count": 11,
   "metadata": {
    "colab": {
     "base_uri": "https://localhost:8080/"
    },
    "executionInfo": {
     "elapsed": 212,
     "status": "ok",
     "timestamp": 1739870480021,
     "user": {
      "displayName": "Sepahrad Salour",
      "userId": "05630196790215108512"
     },
     "user_tz": 0
    },
    "id": "XYPW-vykXF2D",
    "outputId": "89ff3226-c5d6-4d95-b8f7-073dde2e9620"
   },
   "outputs": [
    {
     "name": "stdout",
     "output_type": "stream",
     "text": [
      "[[ 6  4 24]\n",
      " [ 1 -9  8]\n",
      " [ 1  2  4]]\n"
     ]
    }
   ],
   "source": [
    "print(a)"
   ]
  },
  {
   "cell_type": "code",
   "execution_count": 12,
   "metadata": {
    "colab": {
     "base_uri": "https://localhost:8080/"
    },
    "executionInfo": {
     "elapsed": 226,
     "status": "ok",
     "timestamp": 1739870486892,
     "user": {
      "displayName": "Sepahrad Salour",
      "userId": "05630196790215108512"
     },
     "user_tz": 0
    },
    "id": "a_wlDqSvXGsW",
    "outputId": "c03a0530-d719-4677-8c62-8d1be084a9a1"
   },
   "outputs": [
    {
     "data": {
      "text/plain": [
       "array([[ 6,  4, 24],\n",
       "       [ 1, -9,  8]])"
      ]
     },
     "execution_count": 12,
     "metadata": {},
     "output_type": "execute_result"
    }
   ],
   "source": [
    "a[0:2]"
   ]
  },
  {
   "cell_type": "code",
   "execution_count": 13,
   "metadata": {
    "colab": {
     "base_uri": "https://localhost:8080/"
    },
    "executionInfo": {
     "elapsed": 208,
     "status": "ok",
     "timestamp": 1739870522735,
     "user": {
      "displayName": "Sepahrad Salour",
      "userId": "05630196790215108512"
     },
     "user_tz": 0
    },
    "id": "01wWmbLRXL9D",
    "outputId": "31f19be0-9ee2-41fa-ac3e-8e3878d93228"
   },
   "outputs": [
    {
     "data": {
      "text/plain": [
       "array([[ 1, -9,  8],\n",
       "       [ 1,  2,  4]])"
      ]
     },
     "execution_count": 13,
     "metadata": {},
     "output_type": "execute_result"
    }
   ],
   "source": [
    "a[1:3]"
   ]
  },
  {
   "cell_type": "code",
   "execution_count": 14,
   "metadata": {
    "colab": {
     "base_uri": "https://localhost:8080/"
    },
    "executionInfo": {
     "elapsed": 207,
     "status": "ok",
     "timestamp": 1739871329202,
     "user": {
      "displayName": "Sepahrad Salour",
      "userId": "05630196790215108512"
     },
     "user_tz": 0
    },
    "id": "j1g7UvJ3XN2e",
    "outputId": "e2b913ed-e36e-40f2-eb81-6adaf1ebfd34"
   },
   "outputs": [
    {
     "data": {
      "text/plain": [
       "array([[ 6,  4],\n",
       "       [ 1, -9]])"
      ]
     },
     "execution_count": 14,
     "metadata": {},
     "output_type": "execute_result"
    }
   ],
   "source": [
    "a[0:2, :2]"
   ]
  },
  {
   "cell_type": "code",
   "execution_count": 15,
   "metadata": {
    "colab": {
     "base_uri": "https://localhost:8080/"
    },
    "executionInfo": {
     "elapsed": 235,
     "status": "ok",
     "timestamp": 1739871730535,
     "user": {
      "displayName": "Sepahrad Salour",
      "userId": "05630196790215108512"
     },
     "user_tz": 0
    },
    "id": "NyEIAKScaZm3",
    "outputId": "975f872d-fa5b-4541-9425-d33a413b3aaf"
   },
   "outputs": [
    {
     "name": "stdout",
     "output_type": "stream",
     "text": [
      "[[1 2 3]\n",
      " [4 5 6]]\n"
     ]
    }
   ],
   "source": [
    "a = np.array([[1, 2, 3], [4, 5, 6]])\n",
    "print(a)"
   ]
  },
  {
   "cell_type": "code",
   "execution_count": 16,
   "metadata": {
    "colab": {
     "base_uri": "https://localhost:8080/"
    },
    "executionInfo": {
     "elapsed": 215,
     "status": "ok",
     "timestamp": 1739871732617,
     "user": {
      "displayName": "Sepahrad Salour",
      "userId": "05630196790215108512"
     },
     "user_tz": 0
    },
    "id": "YqdGo4PEb1y2",
    "outputId": "a320a6e0-93e2-4944-98e4-2fa80a1000b9"
   },
   "outputs": [
    {
     "data": {
      "text/plain": [
       "21"
      ]
     },
     "execution_count": 16,
     "metadata": {},
     "output_type": "execute_result"
    }
   ],
   "source": [
    "a.sum()"
   ]
  },
  {
   "cell_type": "code",
   "execution_count": 17,
   "metadata": {
    "colab": {
     "base_uri": "https://localhost:8080/"
    },
    "executionInfo": {
     "elapsed": 211,
     "status": "ok",
     "timestamp": 1739871749819,
     "user": {
      "displayName": "Sepahrad Salour",
      "userId": "05630196790215108512"
     },
     "user_tz": 0
    },
    "id": "MuKb8qGwb26J",
    "outputId": "2f00bf46-f369-4f87-c245-7b205da6141f"
   },
   "outputs": [
    {
     "data": {
      "text/plain": [
       "array([5, 7, 9])"
      ]
     },
     "execution_count": 17,
     "metadata": {},
     "output_type": "execute_result"
    }
   ],
   "source": [
    "a.sum(axis=0) #Column"
   ]
  },
  {
   "cell_type": "code",
   "execution_count": 18,
   "metadata": {
    "colab": {
     "base_uri": "https://localhost:8080/"
    },
    "executionInfo": {
     "elapsed": 383,
     "status": "ok",
     "timestamp": 1739871769420,
     "user": {
      "displayName": "Sepahrad Salour",
      "userId": "05630196790215108512"
     },
     "user_tz": 0
    },
    "id": "4Xhgqb2lcAS0",
    "outputId": "5f283c52-5247-4a05-aee8-155711a3c8b6"
   },
   "outputs": [
    {
     "data": {
      "text/plain": [
       "array([ 6, 15])"
      ]
     },
     "execution_count": 18,
     "metadata": {},
     "output_type": "execute_result"
    }
   ],
   "source": [
    "a.sum(axis=1) #Row"
   ]
  },
  {
   "cell_type": "code",
   "execution_count": 19,
   "metadata": {
    "colab": {
     "base_uri": "https://localhost:8080/"
    },
    "executionInfo": {
     "elapsed": 233,
     "status": "ok",
     "timestamp": 1739872050597,
     "user": {
      "displayName": "Sepahrad Salour",
      "userId": "05630196790215108512"
     },
     "user_tz": 0
    },
    "id": "OW00dHBKcFCc",
    "outputId": "8b552170-c712-4c36-ef0c-4302275f9f0e"
   },
   "outputs": [
    {
     "name": "stdout",
     "output_type": "stream",
     "text": [
      "[[1 2]\n",
      " [3 4]]\n",
      "[[1 2]\n",
      " [3 4]]\n"
     ]
    }
   ],
   "source": [
    "a = np.array([[1, 2], [3, 4]])\n",
    "b = np.array([[1, 2], [3, 4]])\n",
    "print(a)\n",
    "print(b)"
   ]
  },
  {
   "cell_type": "code",
   "execution_count": 20,
   "metadata": {
    "colab": {
     "base_uri": "https://localhost:8080/"
    },
    "executionInfo": {
     "elapsed": 3,
     "status": "ok",
     "timestamp": 1739872058996,
     "user": {
      "displayName": "Sepahrad Salour",
      "userId": "05630196790215108512"
     },
     "user_tz": 0
    },
    "id": "EaqMdsJ4dJte",
    "outputId": "1729b217-22c8-4113-811d-99a2ae75f944"
   },
   "outputs": [
    {
     "name": "stdout",
     "output_type": "stream",
     "text": [
      "[[2 4]\n",
      " [6 8]]\n"
     ]
    }
   ],
   "source": [
    "print(a + b)"
   ]
  },
  {
   "cell_type": "code",
   "execution_count": 21,
   "metadata": {
    "colab": {
     "base_uri": "https://localhost:8080/"
    },
    "executionInfo": {
     "elapsed": 4,
     "status": "ok",
     "timestamp": 1739872064634,
     "user": {
      "displayName": "Sepahrad Salour",
      "userId": "05630196790215108512"
     },
     "user_tz": 0
    },
    "id": "TRSjv4t8dLwP",
    "outputId": "7caa47d0-5ec5-451b-a970-47444f7dae32"
   },
   "outputs": [
    {
     "name": "stdout",
     "output_type": "stream",
     "text": [
      "[[0 0]\n",
      " [0 0]]\n"
     ]
    }
   ],
   "source": [
    "print(a - b)"
   ]
  },
  {
   "cell_type": "code",
   "execution_count": 22,
   "metadata": {
    "colab": {
     "base_uri": "https://localhost:8080/"
    },
    "executionInfo": {
     "elapsed": 261,
     "status": "ok",
     "timestamp": 1739872129992,
     "user": {
      "displayName": "Sepahrad Salour",
      "userId": "05630196790215108512"
     },
     "user_tz": 0
    },
    "id": "jU3k6sY9dNJl",
    "outputId": "68fc604f-b1af-4b26-c0ba-783604d136c2"
   },
   "outputs": [
    {
     "name": "stdout",
     "output_type": "stream",
     "text": [
      "[[ 1  4]\n",
      " [ 9 16]]\n"
     ]
    }
   ],
   "source": [
    "print(a * b)"
   ]
  },
  {
   "cell_type": "code",
   "execution_count": 23,
   "metadata": {
    "colab": {
     "base_uri": "https://localhost:8080/"
    },
    "executionInfo": {
     "elapsed": 192,
     "status": "ok",
     "timestamp": 1739872152944,
     "user": {
      "displayName": "Sepahrad Salour",
      "userId": "05630196790215108512"
     },
     "user_tz": 0
    },
    "id": "Tv3fLAIYddGd",
    "outputId": "68d8d9d8-e3c3-40df-b7ad-20f9d4093a7e"
   },
   "outputs": [
    {
     "data": {
      "text/plain": [
       "array([[ 7, 10],\n",
       "       [15, 22]])"
      ]
     },
     "execution_count": 23,
     "metadata": {},
     "output_type": "execute_result"
    }
   ],
   "source": [
    "np.dot(a, b)"
   ]
  },
  {
   "cell_type": "code",
   "execution_count": 24,
   "metadata": {
    "colab": {
     "base_uri": "https://localhost:8080/"
    },
    "executionInfo": {
     "elapsed": 211,
     "status": "ok",
     "timestamp": 1739872590617,
     "user": {
      "displayName": "Sepahrad Salour",
      "userId": "05630196790215108512"
     },
     "user_tz": 0
    },
    "id": "Evc23rOYdiqe",
    "outputId": "b58024fe-471e-43be-d5b2-1ad1bc527ddd"
   },
   "outputs": [
    {
     "name": "stdout",
     "output_type": "stream",
     "text": [
      "[[1 2 3]\n",
      " [4 5 6]]\n"
     ]
    }
   ],
   "source": [
    "a = np.array([[1, 2, 3], [4, 5, 6]])\n",
    "print(a)"
   ]
  },
  {
   "cell_type": "code",
   "execution_count": 25,
   "metadata": {
    "colab": {
     "base_uri": "https://localhost:8080/"
    },
    "executionInfo": {
     "elapsed": 5,
     "status": "ok",
     "timestamp": 1739872596431,
     "user": {
      "displayName": "Sepahrad Salour",
      "userId": "05630196790215108512"
     },
     "user_tz": 0
    },
    "id": "AopfPVz3fNeZ",
    "outputId": "e6179f72-46c3-4dad-8a6d-e4f4555835a0"
   },
   "outputs": [
    {
     "data": {
      "text/plain": [
       "array([[1, 4],\n",
       "       [2, 5],\n",
       "       [3, 6]])"
      ]
     },
     "execution_count": 25,
     "metadata": {},
     "output_type": "execute_result"
    }
   ],
   "source": [
    "a.T"
   ]
  },
  {
   "cell_type": "code",
   "execution_count": 26,
   "metadata": {
    "colab": {
     "base_uri": "https://localhost:8080/"
    },
    "executionInfo": {
     "elapsed": 3,
     "status": "ok",
     "timestamp": 1739872601193,
     "user": {
      "displayName": "Sepahrad Salour",
      "userId": "05630196790215108512"
     },
     "user_tz": 0
    },
    "id": "pVYcWRj8fOxh",
    "outputId": "446d0bcb-edce-4a6b-e2b7-80e3135bad8d"
   },
   "outputs": [
    {
     "data": {
      "text/plain": [
       "array([[1, 2, 3],\n",
       "       [4, 5, 6]])"
      ]
     },
     "execution_count": 26,
     "metadata": {},
     "output_type": "execute_result"
    }
   ],
   "source": [
    "a.T.T"
   ]
  },
  {
   "cell_type": "code",
   "execution_count": 27,
   "metadata": {
    "colab": {
     "base_uri": "https://localhost:8080/"
    },
    "executionInfo": {
     "elapsed": 193,
     "status": "ok",
     "timestamp": 1739873157723,
     "user": {
      "displayName": "Sepahrad Salour",
      "userId": "05630196790215108512"
     },
     "user_tz": 0
    },
    "id": "xuTADvWqfP7G",
    "outputId": "a8be3ca0-c934-4c7c-fa96-6a7ae807149d"
   },
   "outputs": [
    {
     "name": "stdout",
     "output_type": "stream",
     "text": [
      "[[0 1 2]\n",
      " [1 7 8]\n",
      " [2 8 9]]\n"
     ]
    }
   ],
   "source": [
    "a = np.array([[0, 1, 2], [1, 7, 8], [2, 8, 9]])\n",
    "print(a)"
   ]
  },
  {
   "cell_type": "code",
   "execution_count": 28,
   "metadata": {
    "executionInfo": {
     "elapsed": 193,
     "status": "ok",
     "timestamp": 1739873158674,
     "user": {
      "displayName": "Sepahrad Salour",
      "userId": "05630196790215108512"
     },
     "user_tz": 0
    },
    "id": "FU9WHQf3hQhJ"
   },
   "outputs": [],
   "source": [
    "b = a.T"
   ]
  },
  {
   "cell_type": "code",
   "execution_count": 29,
   "metadata": {
    "colab": {
     "base_uri": "https://localhost:8080/"
    },
    "executionInfo": {
     "elapsed": 2,
     "status": "ok",
     "timestamp": 1739873159328,
     "user": {
      "displayName": "Sepahrad Salour",
      "userId": "05630196790215108512"
     },
     "user_tz": 0
    },
    "id": "twwvhp-AhSi6",
    "outputId": "c56b4e51-7cc4-48f9-9b86-8b8edd3422d9"
   },
   "outputs": [
    {
     "data": {
      "text/plain": [
       "array([[ True,  True,  True],\n",
       "       [ True,  True,  True],\n",
       "       [ True,  True,  True]])"
      ]
     },
     "execution_count": 29,
     "metadata": {},
     "output_type": "execute_result"
    }
   ],
   "source": [
    "a == b"
   ]
  },
  {
   "cell_type": "code",
   "execution_count": 30,
   "metadata": {
    "colab": {
     "base_uri": "https://localhost:8080/"
    },
    "executionInfo": {
     "elapsed": 3,
     "status": "ok",
     "timestamp": 1739873250964,
     "user": {
      "displayName": "Sepahrad Salour",
      "userId": "05630196790215108512"
     },
     "user_tz": 0
    },
    "id": "-6kzq1XdhTwY",
    "outputId": "ddef027d-11b0-49e1-c025-cee8861ae59c"
   },
   "outputs": [
    {
     "data": {
      "text/plain": [
       "16"
      ]
     },
     "execution_count": 30,
     "metadata": {},
     "output_type": "execute_result"
    }
   ],
   "source": [
    "np.trace(a)"
   ]
  },
  {
   "cell_type": "code",
   "execution_count": 31,
   "metadata": {
    "colab": {
     "base_uri": "https://localhost:8080/"
    },
    "executionInfo": {
     "elapsed": 2,
     "status": "ok",
     "timestamp": 1739873261896,
     "user": {
      "displayName": "Sepahrad Salour",
      "userId": "05630196790215108512"
     },
     "user_tz": 0
    },
    "id": "5mffH_uxhu0O",
    "outputId": "cee161ca-dcba-44c4-d9c1-fd5af9513a2f"
   },
   "outputs": [
    {
     "data": {
      "text/plain": [
       "16"
      ]
     },
     "execution_count": 31,
     "metadata": {},
     "output_type": "execute_result"
    }
   ],
   "source": [
    "np.trace(b)"
   ]
  },
  {
   "cell_type": "code",
   "execution_count": 32,
   "metadata": {
    "colab": {
     "base_uri": "https://localhost:8080/"
    },
    "executionInfo": {
     "elapsed": 237,
     "status": "ok",
     "timestamp": 1739873338346,
     "user": {
      "displayName": "Sepahrad Salour",
      "userId": "05630196790215108512"
     },
     "user_tz": 0
    },
    "id": "jCyXXK4Whxa3",
    "outputId": "0935ce2e-8be0-461c-c83a-d049d5e6f808"
   },
   "outputs": [
    {
     "name": "stdout",
     "output_type": "stream",
     "text": [
      "[[8 3]\n",
      " [4 2]]\n"
     ]
    }
   ],
   "source": [
    "x = np.array([[8,3], [4,2]])\n",
    "print(x)"
   ]
  },
  {
   "cell_type": "code",
   "execution_count": 33,
   "metadata": {
    "colab": {
     "base_uri": "https://localhost:8080/"
    },
    "executionInfo": {
     "elapsed": 247,
     "status": "ok",
     "timestamp": 1739873367011,
     "user": {
      "displayName": "Sepahrad Salour",
      "userId": "05630196790215108512"
     },
     "user_tz": 0
    },
    "id": "TpnneZzgiCgZ",
    "outputId": "de7cd31d-5488-4f79-b3a3-1ebdeb957d92"
   },
   "outputs": [
    {
     "data": {
      "text/plain": [
       "3.999999999999999"
      ]
     },
     "execution_count": 33,
     "metadata": {},
     "output_type": "execute_result"
    }
   ],
   "source": [
    "np.linalg.det(x)"
   ]
  },
  {
   "cell_type": "code",
   "execution_count": 34,
   "metadata": {
    "colab": {
     "base_uri": "https://localhost:8080/"
    },
    "executionInfo": {
     "elapsed": 214,
     "status": "ok",
     "timestamp": 1739873437174,
     "user": {
      "displayName": "Sepahrad Salour",
      "userId": "05630196790215108512"
     },
     "user_tz": 0
    },
    "id": "VCG1MkbdiLG_",
    "outputId": "5cca1cf5-30e3-4d54-e3d3-5137dc838531"
   },
   "outputs": [
    {
     "name": "stdout",
     "output_type": "stream",
     "text": [
      "[[1 2 3]\n",
      " [3 1 2]\n",
      " [0 0 1]]\n"
     ]
    }
   ],
   "source": [
    "y = np.array([[1,2,3], [3,1,2],[0,0,1]])\n",
    "print(y)"
   ]
  },
  {
   "cell_type": "code",
   "execution_count": 35,
   "metadata": {
    "colab": {
     "base_uri": "https://localhost:8080/"
    },
    "executionInfo": {
     "elapsed": 199,
     "status": "ok",
     "timestamp": 1739873442115,
     "user": {
      "displayName": "Sepahrad Salour",
      "userId": "05630196790215108512"
     },
     "user_tz": 0
    },
    "id": "bt75SAH5iWyR",
    "outputId": "5526b494-8686-4aca-e4c6-5ce8d0f823a3"
   },
   "outputs": [
    {
     "data": {
      "text/plain": [
       "3.999999999999999"
      ]
     },
     "execution_count": 35,
     "metadata": {},
     "output_type": "execute_result"
    }
   ],
   "source": [
    "np.linalg.det(x)"
   ]
  },
  {
   "cell_type": "code",
   "execution_count": 36,
   "metadata": {
    "colab": {
     "base_uri": "https://localhost:8080/"
    },
    "executionInfo": {
     "elapsed": 208,
     "status": "ok",
     "timestamp": 1739873991535,
     "user": {
      "displayName": "Sepahrad Salour",
      "userId": "05630196790215108512"
     },
     "user_tz": 0
    },
    "id": "vfxJT304iYVH",
    "outputId": "439f6efc-6222-4124-f98f-5fb06d329ba0"
   },
   "outputs": [
    {
     "name": "stdout",
     "output_type": "stream",
     "text": [
      "[[4 3]\n",
      " [3 2]]\n"
     ]
    }
   ],
   "source": [
    "a = np.array([[4,3], [3,2]])\n",
    "print(a)"
   ]
  },
  {
   "cell_type": "code",
   "execution_count": 37,
   "metadata": {
    "colab": {
     "base_uri": "https://localhost:8080/"
    },
    "executionInfo": {
     "elapsed": 208,
     "status": "ok",
     "timestamp": 1739874012702,
     "user": {
      "displayName": "Sepahrad Salour",
      "userId": "05630196790215108512"
     },
     "user_tz": 0
    },
    "id": "kP9qGKu_kjly",
    "outputId": "505a9a2d-d74a-4621-eee6-86ded5e88c4a"
   },
   "outputs": [
    {
     "name": "stdout",
     "output_type": "stream",
     "text": [
      "[[-2.  3.]\n",
      " [ 3. -4.]]\n"
     ]
    }
   ],
   "source": [
    "b = np.linalg.inv(a)\n",
    "print(b)"
   ]
  },
  {
   "cell_type": "code",
   "execution_count": 38,
   "metadata": {
    "colab": {
     "base_uri": "https://localhost:8080/"
    },
    "executionInfo": {
     "elapsed": 266,
     "status": "ok",
     "timestamp": 1739874026553,
     "user": {
      "displayName": "Sepahrad Salour",
      "userId": "05630196790215108512"
     },
     "user_tz": 0
    },
    "id": "chiMbPtWkmmH",
    "outputId": "ab5b9d78-76d1-4425-c234-6eb1c7c239f6"
   },
   "outputs": [
    {
     "name": "stdout",
     "output_type": "stream",
     "text": [
      "[[1. 0.]\n",
      " [0. 1.]]\n"
     ]
    }
   ],
   "source": [
    "print(np.dot(a, b))"
   ]
  },
  {
   "cell_type": "code",
   "execution_count": 39,
   "metadata": {
    "colab": {
     "base_uri": "https://localhost:8080/"
    },
    "executionInfo": {
     "elapsed": 232,
     "status": "ok",
     "timestamp": 1739874330575,
     "user": {
      "displayName": "Sepahrad Salour",
      "userId": "05630196790215108512"
     },
     "user_tz": 0
    },
    "id": "o3M-9yoBkqgM",
    "outputId": "7b53f2b9-5664-46a1-d1bd-e249a19401a2"
   },
   "outputs": [
    {
     "data": {
      "text/plain": [
       "6.164414002968976"
      ]
     },
     "execution_count": 39,
     "metadata": {},
     "output_type": "execute_result"
    }
   ],
   "source": [
    "np.linalg.norm(a)"
   ]
  },
  {
   "cell_type": "code",
   "execution_count": 40,
   "metadata": {
    "colab": {
     "base_uri": "https://localhost:8080/"
    },
    "executionInfo": {
     "elapsed": 246,
     "status": "ok",
     "timestamp": 1739874409702,
     "user": {
      "displayName": "Sepahrad Salour",
      "userId": "05630196790215108512"
     },
     "user_tz": 0
    },
    "id": "08MR1MM8l2Wh",
    "outputId": "79f9f2fd-3b70-487f-92f3-3f6ac262d284"
   },
   "outputs": [
    {
     "data": {
      "text/plain": [
       "6.164414002968976"
      ]
     },
     "execution_count": 40,
     "metadata": {},
     "output_type": "execute_result"
    }
   ],
   "source": [
    "np.sqrt(np.trace(a.dot(a.T)))"
   ]
  },
  {
   "cell_type": "code",
   "execution_count": 41,
   "metadata": {
    "executionInfo": {
     "elapsed": 4709,
     "status": "ok",
     "timestamp": 1739874510921,
     "user": {
      "displayName": "Sepahrad Salour",
      "userId": "05630196790215108512"
     },
     "user_tz": 0
    },
    "id": "EcUKO99bmJlT"
   },
   "outputs": [],
   "source": [
    "import sympy as sp"
   ]
  },
  {
   "cell_type": "code",
   "execution_count": 42,
   "metadata": {
    "colab": {
     "base_uri": "https://localhost:8080/",
     "height": 58
    },
    "executionInfo": {
     "elapsed": 256,
     "status": "ok",
     "timestamp": 1739874559929,
     "user": {
      "displayName": "Sepahrad Salour",
      "userId": "05630196790215108512"
     },
     "user_tz": 0
    },
    "id": "IoTcbibnmhS_",
    "outputId": "346c72ee-2323-4fa4-9488-7636810c772f"
   },
   "outputs": [
    {
     "data": {
      "text/latex": [
       "$\\displaystyle \\left[\\begin{matrix}-6 & 3\\\\4 & 5\\end{matrix}\\right]$"
      ],
      "text/plain": [
       "Matrix([\n",
       "[-6, 3],\n",
       "[ 4, 5]])"
      ]
     },
     "execution_count": 42,
     "metadata": {},
     "output_type": "execute_result"
    }
   ],
   "source": [
    "a = sp.Matrix([[-6,3], [4,5]])\n",
    "a"
   ]
  },
  {
   "cell_type": "code",
   "execution_count": 43,
   "metadata": {
    "colab": {
     "base_uri": "https://localhost:8080/",
     "height": 38
    },
    "executionInfo": {
     "elapsed": 192,
     "status": "ok",
     "timestamp": 1739874593989,
     "user": {
      "displayName": "Sepahrad Salour",
      "userId": "05630196790215108512"
     },
     "user_tz": 0
    },
    "id": "8veg8fTTmuV5",
    "outputId": "0ac8ae6b-c1e4-4bc2-eca2-ea94604b1e56"
   },
   "outputs": [
    {
     "data": {
      "text/latex": [
       "$\\displaystyle \\left[\\begin{matrix}-6 & 3\\end{matrix}\\right]$"
      ],
      "text/plain": [
       "Matrix([[-6, 3]])"
      ]
     },
     "execution_count": 43,
     "metadata": {},
     "output_type": "execute_result"
    }
   ],
   "source": [
    "a.row(0)"
   ]
  },
  {
   "cell_type": "code",
   "execution_count": 44,
   "metadata": {
    "colab": {
     "base_uri": "https://localhost:8080/",
     "height": 58
    },
    "executionInfo": {
     "elapsed": 318,
     "status": "ok",
     "timestamp": 1739874600645,
     "user": {
      "displayName": "Sepahrad Salour",
      "userId": "05630196790215108512"
     },
     "user_tz": 0
    },
    "id": "_4hKynLIm2rb",
    "outputId": "9dea714a-6d25-4508-91c4-6f19db24038c"
   },
   "outputs": [
    {
     "data": {
      "text/latex": [
       "$\\displaystyle \\left[\\begin{matrix}-6\\\\4\\end{matrix}\\right]$"
      ],
      "text/plain": [
       "Matrix([\n",
       "[-6],\n",
       "[ 4]])"
      ]
     },
     "execution_count": 44,
     "metadata": {},
     "output_type": "execute_result"
    }
   ],
   "source": [
    "a.col(0)"
   ]
  },
  {
   "cell_type": "code",
   "execution_count": 45,
   "metadata": {
    "colab": {
     "base_uri": "https://localhost:8080/"
    },
    "executionInfo": {
     "elapsed": 222,
     "status": "ok",
     "timestamp": 1739874605180,
     "user": {
      "displayName": "Sepahrad Salour",
      "userId": "05630196790215108512"
     },
     "user_tz": 0
    },
    "id": "oDsMulfAm4RZ",
    "outputId": "361956c1-80a0-4ca2-d3f5-3d513772e4d8"
   },
   "outputs": [
    {
     "data": {
      "text/plain": [
       "(2, 2)"
      ]
     },
     "execution_count": 45,
     "metadata": {},
     "output_type": "execute_result"
    }
   ],
   "source": [
    "a.shape"
   ]
  },
  {
   "cell_type": "code",
   "execution_count": 46,
   "metadata": {
    "colab": {
     "base_uri": "https://localhost:8080/",
     "height": 58
    },
    "executionInfo": {
     "elapsed": 213,
     "status": "ok",
     "timestamp": 1739874615430,
     "user": {
      "displayName": "Sepahrad Salour",
      "userId": "05630196790215108512"
     },
     "user_tz": 0
    },
    "id": "P9rfJGjhm5Z8",
    "outputId": "96401141-f733-441d-f915-47579b498a44"
   },
   "outputs": [
    {
     "data": {
      "text/latex": [
       "$\\displaystyle \\left[\\begin{matrix}- \\frac{5}{42} & \\frac{1}{14}\\\\\\frac{2}{21} & \\frac{1}{7}\\end{matrix}\\right]$"
      ],
      "text/plain": [
       "Matrix([\n",
       "[-5/42, 1/14],\n",
       "[ 2/21,  1/7]])"
      ]
     },
     "execution_count": 46,
     "metadata": {},
     "output_type": "execute_result"
    }
   ],
   "source": [
    "a.inv()"
   ]
  },
  {
   "cell_type": "code",
   "execution_count": 47,
   "metadata": {
    "colab": {
     "base_uri": "https://localhost:8080/",
     "height": 37
    },
    "executionInfo": {
     "elapsed": 220,
     "status": "ok",
     "timestamp": 1739874620013,
     "user": {
      "displayName": "Sepahrad Salour",
      "userId": "05630196790215108512"
     },
     "user_tz": 0
    },
    "id": "BgLwSJY2m70W",
    "outputId": "5d9c316e-ec9f-44ef-a71d-349f8932fff9"
   },
   "outputs": [
    {
     "data": {
      "text/latex": [
       "$\\displaystyle -42$"
      ],
      "text/plain": [
       "-42"
      ]
     },
     "execution_count": 47,
     "metadata": {},
     "output_type": "execute_result"
    }
   ],
   "source": [
    "a.det()"
   ]
  },
  {
   "cell_type": "code",
   "execution_count": 48,
   "metadata": {
    "colab": {
     "base_uri": "https://localhost:8080/",
     "height": 98
    },
    "executionInfo": {
     "elapsed": 3,
     "status": "ok",
     "timestamp": 1739874693687,
     "user": {
      "displayName": "Sepahrad Salour",
      "userId": "05630196790215108512"
     },
     "user_tz": 0
    },
    "id": "E9xQBQtlm9Bo",
    "outputId": "aa39d714-36d5-4bd4-a968-7c533486509d"
   },
   "outputs": [
    {
     "data": {
      "text/latex": [
       "$\\displaystyle \\left[\\begin{matrix}0 & 0 & 0 & 0 & 0\\\\0 & 0 & 0 & 0 & 0\\\\0 & 0 & 0 & 0 & 0\\\\0 & 0 & 0 & 0 & 0\\end{matrix}\\right]$"
      ],
      "text/plain": [
       "Matrix([\n",
       "[0, 0, 0, 0, 0],\n",
       "[0, 0, 0, 0, 0],\n",
       "[0, 0, 0, 0, 0],\n",
       "[0, 0, 0, 0, 0]])"
      ]
     },
     "execution_count": 48,
     "metadata": {},
     "output_type": "execute_result"
    }
   ],
   "source": [
    "sp.zeros(4, 5)"
   ]
  },
  {
   "cell_type": "code",
   "execution_count": 49,
   "metadata": {
    "colab": {
     "base_uri": "https://localhost:8080/",
     "height": 119
    },
    "executionInfo": {
     "elapsed": 4,
     "status": "ok",
     "timestamp": 1739874712939,
     "user": {
      "displayName": "Sepahrad Salour",
      "userId": "05630196790215108512"
     },
     "user_tz": 0
    },
    "id": "47u0C6nZnO9y",
    "outputId": "c78ce333-de8f-4cc6-a53a-1c6f11025ac5"
   },
   "outputs": [
    {
     "data": {
      "text/latex": [
       "$\\displaystyle \\left[\\begin{matrix}1 & 0 & 0 & 0 & 0\\\\0 & 1 & 0 & 0 & 0\\\\0 & 0 & 1 & 0 & 0\\\\0 & 0 & 0 & 1 & 0\\\\0 & 0 & 0 & 0 & 1\\end{matrix}\\right]$"
      ],
      "text/plain": [
       "Matrix([\n",
       "[1, 0, 0, 0, 0],\n",
       "[0, 1, 0, 0, 0],\n",
       "[0, 0, 1, 0, 0],\n",
       "[0, 0, 0, 1, 0],\n",
       "[0, 0, 0, 0, 1]])"
      ]
     },
     "execution_count": 49,
     "metadata": {},
     "output_type": "execute_result"
    }
   ],
   "source": [
    "sp.eye(5,5)"
   ]
  },
  {
   "cell_type": "code",
   "execution_count": 50,
   "metadata": {
    "colab": {
     "base_uri": "https://localhost:8080/",
     "height": 98
    },
    "executionInfo": {
     "elapsed": 246,
     "status": "ok",
     "timestamp": 1739874729525,
     "user": {
      "displayName": "Sepahrad Salour",
      "userId": "05630196790215108512"
     },
     "user_tz": 0
    },
    "id": "Znfefy0HnTnR",
    "outputId": "1b158c3a-81a3-4348-975e-ecd8e83e6f3c"
   },
   "outputs": [
    {
     "data": {
      "text/latex": [
       "$\\displaystyle \\left[\\begin{matrix}1 & 0 & 0 & 0\\\\0 & 2 & 0 & 0\\\\0 & 0 & 3 & 0\\\\0 & 0 & 0 & 4\\end{matrix}\\right]$"
      ],
      "text/plain": [
       "Matrix([\n",
       "[1, 0, 0, 0],\n",
       "[0, 2, 0, 0],\n",
       "[0, 0, 3, 0],\n",
       "[0, 0, 0, 4]])"
      ]
     },
     "execution_count": 50,
     "metadata": {},
     "output_type": "execute_result"
    }
   ],
   "source": [
    "sp.diag(1,2,3,4)"
   ]
  },
  {
   "cell_type": "code",
   "execution_count": null,
   "metadata": {
    "id": "maukUcvXnXvx"
   },
   "outputs": [],
   "source": []
  }
 ],
 "metadata": {
  "colab": {
   "authorship_tag": "ABX9TyPD+5to1Nk7qZ8WcokUhBmP",
   "provenance": []
  },
  "kernelspec": {
   "display_name": "base",
   "language": "python",
   "name": "python3"
  },
  "language_info": {
   "codemirror_mode": {
    "name": "ipython",
    "version": 3
   },
   "file_extension": ".py",
   "mimetype": "text/x-python",
   "name": "python",
   "nbconvert_exporter": "python",
   "pygments_lexer": "ipython3",
   "version": "3.12.7"
  }
 },
 "nbformat": 4,
 "nbformat_minor": 0
}
