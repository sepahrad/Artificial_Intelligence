{
 "cells": [
  {
   "cell_type": "markdown",
   "metadata": {
    "id": "EGwraSF-yaVp"
   },
   "source": [
    "We should find the value of L and V that satisfy the this equation:\n",
    "A . V == L * V\n",
    "\n",
    "---\n",
    "\n"
   ]
  },
  {
   "cell_type": "code",
   "execution_count": 1,
   "metadata": {
    "executionInfo": {
     "elapsed": 96,
     "status": "ok",
     "timestamp": 1746705727765,
     "user": {
      "displayName": "Sepahrad Salour",
      "userId": "05630196790215108512"
     },
     "user_tz": -60
    },
    "id": "BWmhFx1_4xcq"
   },
   "outputs": [],
   "source": [
    "import numpy as np"
   ]
  },
  {
   "cell_type": "code",
   "execution_count": 2,
   "metadata": {
    "colab": {
     "base_uri": "https://localhost:8080/"
    },
    "executionInfo": {
     "elapsed": 3,
     "status": "ok",
     "timestamp": 1746705727770,
     "user": {
      "displayName": "Sepahrad Salour",
      "userId": "05630196790215108512"
     },
     "user_tz": -60
    },
    "id": "QK8x7b8r1pLG",
    "outputId": "a85e2001-ce7d-4ad3-856a-0b4355789ed9"
   },
   "outputs": [
    {
     "name": "stdout",
     "output_type": "stream",
     "text": [
      "[[1 4]\n",
      " [3 2]]\n"
     ]
    }
   ],
   "source": [
    "A = np.array([[1,4],[3,2]])\n",
    "print(A)"
   ]
  },
  {
   "cell_type": "code",
   "execution_count": 3,
   "metadata": {
    "executionInfo": {
     "elapsed": 1,
     "status": "ok",
     "timestamp": 1746705727771,
     "user": {
      "displayName": "Sepahrad Salour",
      "userId": "05630196790215108512"
     },
     "user_tz": -60
    },
    "id": "8OO3oVDU16YN"
   },
   "outputs": [],
   "source": [
    "L, V = np.linalg.eig(A)"
   ]
  },
  {
   "cell_type": "code",
   "execution_count": 4,
   "metadata": {
    "colab": {
     "base_uri": "https://localhost:8080/"
    },
    "executionInfo": {
     "elapsed": 3,
     "status": "ok",
     "timestamp": 1746705727774,
     "user": {
      "displayName": "Sepahrad Salour",
      "userId": "05630196790215108512"
     },
     "user_tz": -60
    },
    "id": "CApaD6X62d4H",
    "outputId": "d2ec2873-5228-4fba-a4de-e909648f7a25"
   },
   "outputs": [
    {
     "data": {
      "text/plain": [
       "array([-2.,  5.])"
      ]
     },
     "execution_count": 4,
     "metadata": {},
     "output_type": "execute_result"
    }
   ],
   "source": [
    "L # Eigenvalues"
   ]
  },
  {
   "cell_type": "code",
   "execution_count": 5,
   "metadata": {
    "colab": {
     "base_uri": "https://localhost:8080/"
    },
    "executionInfo": {
     "elapsed": 2,
     "status": "ok",
     "timestamp": 1746705727776,
     "user": {
      "displayName": "Sepahrad Salour",
      "userId": "05630196790215108512"
     },
     "user_tz": -60
    },
    "id": "8G0RFjMo2eug",
    "outputId": "6a8251ca-4e67-4f7b-86a8-f2179ebcb476"
   },
   "outputs": [
    {
     "name": "stdout",
     "output_type": "stream",
     "text": [
      "[[-0.8 -0.7]\n",
      " [ 0.6 -0.7]]\n"
     ]
    }
   ],
   "source": [
    "print(np.round(V, decimals=1)) #Eigenvectors"
   ]
  },
  {
   "cell_type": "code",
   "execution_count": 6,
   "metadata": {
    "colab": {
     "base_uri": "https://localhost:8080/"
    },
    "executionInfo": {
     "elapsed": 1,
     "status": "ok",
     "timestamp": 1746705727778,
     "user": {
      "displayName": "Sepahrad Salour",
      "userId": "05630196790215108512"
     },
     "user_tz": -60
    },
    "id": "rWswOyN42pWH",
    "outputId": "f25042d3-5f45-496e-8d83-1e95b3083f96"
   },
   "outputs": [
    {
     "data": {
      "text/plain": [
       "array([ 1.6, -1.2])"
      ]
     },
     "execution_count": 6,
     "metadata": {},
     "output_type": "execute_result"
    }
   ],
   "source": [
    "L[0] * V[:, 0]"
   ]
  },
  {
   "cell_type": "code",
   "execution_count": 7,
   "metadata": {
    "colab": {
     "base_uri": "https://localhost:8080/"
    },
    "executionInfo": {
     "elapsed": 1,
     "status": "ok",
     "timestamp": 1746705727780,
     "user": {
      "displayName": "Sepahrad Salour",
      "userId": "05630196790215108512"
     },
     "user_tz": -60
    },
    "id": "1o9sn-AZxh0D",
    "outputId": "4c42923f-9e73-4fe0-e71e-e149a6641143"
   },
   "outputs": [
    {
     "data": {
      "text/plain": [
       "array([ 1.6, -1.2])"
      ]
     },
     "execution_count": 7,
     "metadata": {},
     "output_type": "execute_result"
    }
   ],
   "source": [
    "np.dot(A, V[:, 0])"
   ]
  },
  {
   "cell_type": "code",
   "execution_count": 8,
   "metadata": {
    "colab": {
     "base_uri": "https://localhost:8080/"
    },
    "executionInfo": {
     "elapsed": 4,
     "status": "ok",
     "timestamp": 1746705727785,
     "user": {
      "displayName": "Sepahrad Salour",
      "userId": "05630196790215108512"
     },
     "user_tz": -60
    },
    "id": "D78378X8xWtU",
    "outputId": "3b17c918-9084-4eca-a17b-f775c9650645"
   },
   "outputs": [
    {
     "data": {
      "text/plain": [
       "array([-3.53553391, -3.53553391])"
      ]
     },
     "execution_count": 8,
     "metadata": {},
     "output_type": "execute_result"
    }
   ],
   "source": [
    "L[1] * V[:, 1]"
   ]
  },
  {
   "cell_type": "code",
   "execution_count": 9,
   "metadata": {
    "colab": {
     "base_uri": "https://localhost:8080/"
    },
    "executionInfo": {
     "elapsed": 4,
     "status": "ok",
     "timestamp": 1746705727789,
     "user": {
      "displayName": "Sepahrad Salour",
      "userId": "05630196790215108512"
     },
     "user_tz": -60
    },
    "id": "lBQReI2SwuwG",
    "outputId": "6db75d20-790b-4d48-996f-b229e64c3ff9"
   },
   "outputs": [
    {
     "data": {
      "text/plain": [
       "array([-3.53553391, -3.53553391])"
      ]
     },
     "execution_count": 9,
     "metadata": {},
     "output_type": "execute_result"
    }
   ],
   "source": [
    "np.dot(A, V[:, 1])"
   ]
  },
  {
   "cell_type": "code",
   "execution_count": 10,
   "metadata": {},
   "outputs": [],
   "source": [
    "import sympy as sp"
   ]
  },
  {
   "cell_type": "code",
   "execution_count": 11,
   "metadata": {},
   "outputs": [
    {
     "data": {
      "text/latex": [
       "$\\displaystyle \\left[\\begin{matrix}1 & 4\\\\3 & 2\\end{matrix}\\right]$"
      ],
      "text/plain": [
       "Matrix([\n",
       "[1, 4],\n",
       "[3, 2]])"
      ]
     },
     "execution_count": 11,
     "metadata": {},
     "output_type": "execute_result"
    }
   ],
   "source": [
    "A = sp.Matrix([[1,4],[3,2]])\n",
    "A"
   ]
  },
  {
   "cell_type": "code",
   "execution_count": 13,
   "metadata": {},
   "outputs": [
    {
     "data": {
      "text/plain": [
       "{5: 1, -2: 1}"
      ]
     },
     "execution_count": 13,
     "metadata": {},
     "output_type": "execute_result"
    }
   ],
   "source": [
    "A.eigenvals()"
   ]
  },
  {
   "cell_type": "code",
   "execution_count": 15,
   "metadata": {},
   "outputs": [
    {
     "data": {
      "text/plain": [
       "[(-2,\n",
       "  1,\n",
       "  [Matrix([\n",
       "   [-4/3],\n",
       "   [   1]])]),\n",
       " (5,\n",
       "  1,\n",
       "  [Matrix([\n",
       "   [1],\n",
       "   [1]])])]"
      ]
     },
     "execution_count": 15,
     "metadata": {},
     "output_type": "execute_result"
    }
   ],
   "source": [
    "A.eigenvects()"
   ]
  },
  {
   "cell_type": "code",
   "execution_count": null,
   "metadata": {},
   "outputs": [],
   "source": []
  }
 ],
 "metadata": {
  "colab": {
   "authorship_tag": "ABX9TyMjwq0zPqI+5bE5nHPUg0KI",
   "provenance": []
  },
  "kernelspec": {
   "display_name": "base",
   "language": "python",
   "name": "python3"
  },
  "language_info": {
   "codemirror_mode": {
    "name": "ipython",
    "version": 3
   },
   "file_extension": ".py",
   "mimetype": "text/x-python",
   "name": "python",
   "nbconvert_exporter": "python",
   "pygments_lexer": "ipython3",
   "version": "3.12.7"
  }
 },
 "nbformat": 4,
 "nbformat_minor": 0
}
