{
 "cells": [
  {
   "cell_type": "code",
   "execution_count": 1,
   "metadata": {
    "executionInfo": {
     "elapsed": 5765,
     "status": "ok",
     "timestamp": 1740231790659,
     "user": {
      "displayName": "Sepahrad Salour",
      "userId": "05630196790215108512"
     },
     "user_tz": 0
    },
    "id": "XjtmM72-5Mlg"
   },
   "outputs": [],
   "source": [
    "import sympy as sy"
   ]
  },
  {
   "cell_type": "code",
   "execution_count": 2,
   "metadata": {
    "executionInfo": {
     "elapsed": 16,
     "status": "ok",
     "timestamp": 1740231794283,
     "user": {
      "displayName": "Sepahrad Salour",
      "userId": "05630196790215108512"
     },
     "user_tz": 0
    },
    "id": "DUeqI_Ds5Zz1"
   },
   "outputs": [],
   "source": [
    "x, y = sy.symbols('x,y')"
   ]
  },
  {
   "cell_type": "code",
   "execution_count": 3,
   "metadata": {
    "colab": {
     "base_uri": "https://localhost:8080/",
     "height": 39
    },
    "executionInfo": {
     "elapsed": 219,
     "status": "ok",
     "timestamp": 1740231815689,
     "user": {
      "displayName": "Sepahrad Salour",
      "userId": "05630196790215108512"
     },
     "user_tz": 0
    },
    "id": "vHaF1eol5d2b",
    "outputId": "89f2b83e-df18-490a-aedb-601bcf7b0d58"
   },
   "outputs": [
    {
     "data": {
      "text/latex": [
       "$\\displaystyle x^{2} + 3 x + y$"
      ],
      "text/plain": [
       "x**2 + 3*x + y"
      ]
     },
     "execution_count": 3,
     "metadata": {},
     "output_type": "execute_result"
    }
   ],
   "source": [
    "3*x + y + x ** 2"
   ]
  },
  {
   "cell_type": "code",
   "execution_count": 4,
   "metadata": {
    "executionInfo": {
     "elapsed": 43,
     "status": "ok",
     "timestamp": 1740231873939,
     "user": {
      "displayName": "Sepahrad Salour",
      "userId": "05630196790215108512"
     },
     "user_tz": 0
    },
    "id": "2nTv07FR5jB5"
   },
   "outputs": [],
   "source": [
    "# x - y = -1\n",
    "# 3x + y = 9"
   ]
  },
  {
   "cell_type": "code",
   "execution_count": 5,
   "metadata": {
    "executionInfo": {
     "elapsed": 14,
     "status": "ok",
     "timestamp": 1740231926331,
     "user": {
      "displayName": "Sepahrad Salour",
      "userId": "05630196790215108512"
     },
     "user_tz": 0
    },
    "id": "LbhWYMsf5xS5"
   },
   "outputs": [],
   "source": [
    "eq1 = sy.Eq(3*x + y, 9)\n",
    "eq2 = sy.Eq(x - y, -1)"
   ]
  },
  {
   "cell_type": "code",
   "execution_count": 6,
   "metadata": {
    "colab": {
     "base_uri": "https://localhost:8080/"
    },
    "executionInfo": {
     "elapsed": 8,
     "status": "ok",
     "timestamp": 1740231932451,
     "user": {
      "displayName": "Sepahrad Salour",
      "userId": "05630196790215108512"
     },
     "user_tz": 0
    },
    "id": "2Eg7migl5-Fy",
    "outputId": "5558e313-af33-427f-f16a-16e989127c96"
   },
   "outputs": [
    {
     "data": {
      "text/plain": [
       "{x: 2, y: 3}"
      ]
     },
     "execution_count": 6,
     "metadata": {},
     "output_type": "execute_result"
    }
   ],
   "source": [
    "sy.solve([eq1, eq2], [x, y])"
   ]
  },
  {
   "cell_type": "code",
   "execution_count": 7,
   "metadata": {
    "executionInfo": {
     "elapsed": 20,
     "status": "ok",
     "timestamp": 1740231976362,
     "user": {
      "displayName": "Sepahrad Salour",
      "userId": "05630196790215108512"
     },
     "user_tz": 0
    },
    "id": "K-mNDew85_ll"
   },
   "outputs": [],
   "source": [
    "import numpy as np"
   ]
  },
  {
   "cell_type": "code",
   "execution_count": 8,
   "metadata": {
    "executionInfo": {
     "elapsed": 3,
     "status": "ok",
     "timestamp": 1740232047973,
     "user": {
      "displayName": "Sepahrad Salour",
      "userId": "05630196790215108512"
     },
     "user_tz": 0
    },
    "id": "fGkM9DZg6KTR"
   },
   "outputs": [],
   "source": [
    "a = np.array([[1, -1],\n",
    "              [3, 1]])\n",
    "b = np.array([-1, 9])"
   ]
  },
  {
   "cell_type": "code",
   "execution_count": 9,
   "metadata": {
    "colab": {
     "base_uri": "https://localhost:8080/"
    },
    "executionInfo": {
     "elapsed": 7,
     "status": "ok",
     "timestamp": 1740232080124,
     "user": {
      "displayName": "Sepahrad Salour",
      "userId": "05630196790215108512"
     },
     "user_tz": 0
    },
    "id": "ScUNiJPs6byi",
    "outputId": "b062913e-f2c3-4411-b4ae-37a344fb2ed4"
   },
   "outputs": [
    {
     "data": {
      "text/plain": [
       "array([2., 3.])"
      ]
     },
     "execution_count": 9,
     "metadata": {},
     "output_type": "execute_result"
    }
   ],
   "source": [
    "np.linalg.inv(a).dot(b)"
   ]
  },
  {
   "cell_type": "code",
   "execution_count": 10,
   "metadata": {
    "colab": {
     "base_uri": "https://localhost:8080/"
    },
    "executionInfo": {
     "elapsed": 10,
     "status": "ok",
     "timestamp": 1740232958240,
     "user": {
      "displayName": "Sepahrad Salour",
      "userId": "05630196790215108512"
     },
     "user_tz": 0
    },
    "id": "OKVoBYNr6hJ3",
    "outputId": "be9ff9db-3638-40dc-b84e-b6d24791b9ac"
   },
   "outputs": [
    {
     "data": {
      "text/plain": [
       "array([2., 3.])"
      ]
     },
     "execution_count": 10,
     "metadata": {},
     "output_type": "execute_result"
    }
   ],
   "source": [
    "np.linalg.solve(a, b)"
   ]
  },
  {
   "cell_type": "code",
   "execution_count": 11,
   "metadata": {
    "colab": {
     "base_uri": "https://localhost:8080/"
    },
    "executionInfo": {
     "elapsed": 15,
     "status": "ok",
     "timestamp": 1740233003358,
     "user": {
      "displayName": "Sepahrad Salour",
      "userId": "05630196790215108512"
     },
     "user_tz": 0
    },
    "id": "0iQvX_w-96BT",
    "outputId": "fd2fe82e-c695-463d-887f-e0effb338812"
   },
   "outputs": [
    {
     "data": {
      "text/plain": [
       "array([2., 3.])"
      ]
     },
     "execution_count": 11,
     "metadata": {},
     "output_type": "execute_result"
    }
   ],
   "source": [
    "from scipy.linalg import solve\n",
    "solve(a,b)"
   ]
  },
  {
   "cell_type": "code",
   "execution_count": 12,
   "metadata": {
    "executionInfo": {
     "elapsed": 43,
     "status": "ok",
     "timestamp": 1740233014434,
     "user": {
      "displayName": "Sepahrad Salour",
      "userId": "05630196790215108512"
     },
     "user_tz": 0
    },
    "id": "FgLIxxzL-FCO"
   },
   "outputs": [],
   "source": [
    "import matplotlib.pyplot as plt"
   ]
  },
  {
   "cell_type": "code",
   "execution_count": 13,
   "metadata": {
    "colab": {
     "base_uri": "https://localhost:8080/"
    },
    "executionInfo": {
     "elapsed": 14,
     "status": "ok",
     "timestamp": 1740233098874,
     "user": {
      "displayName": "Sepahrad Salour",
      "userId": "05630196790215108512"
     },
     "user_tz": 0
    },
    "id": "XSRFBeH4-HvA",
    "outputId": "1b587128-e8bc-4bcc-face-f1bc5b73e9b8"
   },
   "outputs": [
    {
     "data": {
      "text/plain": [
       "array([-5.        , -3.88888889, -2.77777778, -1.66666667, -0.55555556,\n",
       "        0.55555556,  1.66666667,  2.77777778,  3.88888889,  5.        ])"
      ]
     },
     "execution_count": 13,
     "metadata": {},
     "output_type": "execute_result"
    }
   ],
   "source": [
    "np.linspace(-5, 5, 10)"
   ]
  },
  {
   "cell_type": "code",
   "execution_count": 14,
   "metadata": {
    "colab": {
     "base_uri": "https://localhost:8080/",
     "height": 472
    },
    "executionInfo": {
     "elapsed": 339,
     "status": "ok",
     "timestamp": 1740233555846,
     "user": {
      "displayName": "Sepahrad Salour",
      "userId": "05630196790215108512"
     },
     "user_tz": 0
    },
    "id": "-FfsgTEn-OFC",
    "outputId": "dc94f0d0-c7f0-4730-d454-000e49fe4b87"
   },
   "outputs": [
    {
     "data": {
      "image/png": "[encoded data removed]",
      "text/plain": [
       "<Figure size 640x480 with 1 Axes>"
      ]
     },
     "metadata": {},
     "output_type": "display_data"
    }
   ],
   "source": [
    "x = np.linspace(-5, 5, 10)\n",
    "y1 = x + 1\n",
    "y2 = 9  - 3*x\n",
    "plt.plot(x, y1, c='b')\n",
    "plt.plot(x, y2, c='r')\n",
    "plt.xlabel('x')\n",
    "plt.ylabel('y')\n",
    "plt.title('System')\n",
    "plt.grid()\n",
    "\n",
    "plt.axvline(x=2, color='gray', linestyle='--')\n",
    "plt.axhline(y=3, color='gray', linestyle='--')\n",
    "\n",
    "plt.show()"
   ]
  },
  {
   "cell_type": "code",
   "execution_count": 15,
   "metadata": {
    "executionInfo": {
     "elapsed": 41,
     "status": "ok",
     "timestamp": 1740233645615,
     "user": {
      "displayName": "Sepahrad Salour",
      "userId": "05630196790215108512"
     },
     "user_tz": 0
    },
    "id": "LuwNyvCx-gkg"
   },
   "outputs": [],
   "source": [
    "# x + 3*y - 2*z = 5\n",
    "# 3*x + 5*y + 6*z = 7\n",
    "# 2*x + 4*y + 3*z = 8"
   ]
  },
  {
   "cell_type": "code",
   "execution_count": 16,
   "metadata": {
    "colab": {
     "base_uri": "https://localhost:8080/"
    },
    "executionInfo": {
     "elapsed": 46,
     "status": "ok",
     "timestamp": 1740233831383,
     "user": {
      "displayName": "Sepahrad Salour",
      "userId": "05630196790215108512"
     },
     "user_tz": 0
    },
    "id": "n-1ThjnnAh1N",
    "outputId": "bfb569f7-32c9-4e7f-9299-1b3428584552"
   },
   "outputs": [
    {
     "data": {
      "text/plain": [
       "{x: -15, y: 8, z: 2}"
      ]
     },
     "execution_count": 16,
     "metadata": {},
     "output_type": "execute_result"
    }
   ],
   "source": [
    "x, y, z = sy.symbols('x,y,z')\n",
    "\n",
    "eq1 = sy.Eq(x + 3*y - 2*z, 5)\n",
    "eq2 = sy.Eq(3*x + 5*y + 6*z, 7)\n",
    "eq3 = sy.Eq(2*x + 4*y + 3*z, 8)\n",
    "\n",
    "sy.solve([eq1, eq2, eq3], [x, y, z])"
   ]
  },
  {
   "cell_type": "code",
   "execution_count": 17,
   "metadata": {
    "colab": {
     "base_uri": "https://localhost:8080/"
    },
    "executionInfo": {
     "elapsed": 41,
     "status": "ok",
     "timestamp": 1740234126755,
     "user": {
      "displayName": "Sepahrad Salour",
      "userId": "05630196790215108512"
     },
     "user_tz": 0
    },
    "id": "p7b9tA6lBPLr",
    "outputId": "871fd0e1-d9f2-4683-b903-83713977cc10"
   },
   "outputs": [
    {
     "data": {
      "text/plain": [
       "array([-15.,   8.,   2.])"
      ]
     },
     "execution_count": 17,
     "metadata": {},
     "output_type": "execute_result"
    }
   ],
   "source": [
    "a = np.array([[1, 3, -2],\n",
    "              [3, 5, 6],\n",
    "              [2, 4, 3]])\n",
    "b = np.array([5, 7, 8])\n",
    "x = np.linalg.solve(a, b)\n",
    "x"
   ]
  },
  {
   "cell_type": "code",
   "execution_count": null,
   "metadata": {
    "id": "5yadLY_aCRrQ"
   },
   "outputs": [],
   "source": []
  }
 ],
 "metadata": {
  "colab": {
   "authorship_tag": "ABX9TyNnBVJT5tVcu+HSmh0aLcQ7",
   "provenance": []
  },
  "kernelspec": {
   "display_name": "base",
   "language": "python",
   "name": "python3"
  },
  "language_info": {
   "codemirror_mode": {
    "name": "ipython",
    "version": 3
   },
   "file_extension": ".py",
   "mimetype": "text/x-python",
   "name": "python",
   "nbconvert_exporter": "python",
   "pygments_lexer": "ipython3",
   "version": "3.12.7"
  }
 },
 "nbformat": 4,
 "nbformat_minor": 0
}
