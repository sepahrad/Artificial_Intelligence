{
 "cells": [
  {
   "cell_type": "markdown",
   "metadata": {
    "id": "l9lp26Mrher8"
   },
   "source": [
    "We aim to write matrix A as: A = U.S.Vt"
   ]
  },
  {
   "cell_type": "code",
   "execution_count": 3,
   "metadata": {
    "executionInfo": {
     "elapsed": 4,
     "status": "ok",
     "timestamp": 1746784312733,
     "user": {
      "displayName": "Sepahrad Salour",
      "userId": "05630196790215108512"
     },
     "user_tz": -60
    },
    "id": "PrAVFPIEs0hX"
   },
   "outputs": [],
   "source": [
    "import numpy as np"
   ]
  },
  {
   "cell_type": "code",
   "execution_count": 5,
   "metadata": {
    "executionInfo": {
     "elapsed": 2,
     "status": "ok",
     "timestamp": 1746784319722,
     "user": {
      "displayName": "Sepahrad Salour",
      "userId": "05630196790215108512"
     },
     "user_tz": -60
    },
    "id": "b91K6LJ63bc8"
   },
   "outputs": [],
   "source": [
    "A = np.array([[3,1,1], [-1,3,1]])"
   ]
  },
  {
   "cell_type": "code",
   "execution_count": 6,
   "metadata": {
    "colab": {
     "base_uri": "https://localhost:8080/"
    },
    "executionInfo": {
     "elapsed": 5,
     "status": "ok",
     "timestamp": 1746784509552,
     "user": {
      "displayName": "Sepahrad Salour",
      "userId": "05630196790215108512"
     },
     "user_tz": -60
    },
    "id": "Whv7pNjtdXhn",
    "outputId": "6f8b0af6-6e64-4a4f-ab83-7e53da7e5cc8"
   },
   "outputs": [
    {
     "data": {
      "text/plain": [
       "array([[11,  1],\n",
       "       [ 1, 11]])"
      ]
     },
     "execution_count": 6,
     "metadata": {},
     "output_type": "execute_result"
    }
   ],
   "source": [
    "np.dot(A, A.T)"
   ]
  },
  {
   "cell_type": "code",
   "execution_count": 7,
   "metadata": {
    "colab": {
     "base_uri": "https://localhost:8080/"
    },
    "executionInfo": {
     "elapsed": 7,
     "status": "ok",
     "timestamp": 1746784531751,
     "user": {
      "displayName": "Sepahrad Salour",
      "userId": "05630196790215108512"
     },
     "user_tz": -60
    },
    "id": "cQ8f5zD3eF3w",
    "outputId": "54f176db-8842-4b31-dc11-387ffbb60b75"
   },
   "outputs": [
    {
     "data": {
      "text/plain": [
       "array([[10,  0,  2],\n",
       "       [ 0, 10,  4],\n",
       "       [ 2,  4,  2]])"
      ]
     },
     "execution_count": 7,
     "metadata": {},
     "output_type": "execute_result"
    }
   ],
   "source": [
    "np.dot(A.T, A)"
   ]
  },
  {
   "cell_type": "code",
   "execution_count": 8,
   "metadata": {
    "executionInfo": {
     "elapsed": 4,
     "status": "ok",
     "timestamp": 1746784589389,
     "user": {
      "displayName": "Sepahrad Salour",
      "userId": "05630196790215108512"
     },
     "user_tz": -60
    },
    "id": "FCCjospIeLSi"
   },
   "outputs": [],
   "source": [
    "U, S, Vt = np.linalg.svd(A)"
   ]
  },
  {
   "cell_type": "code",
   "execution_count": 13,
   "metadata": {
    "colab": {
     "base_uri": "https://localhost:8080/"
    },
    "executionInfo": {
     "elapsed": 3,
     "status": "ok",
     "timestamp": 1746784622228,
     "user": {
      "displayName": "Sepahrad Salour",
      "userId": "05630196790215108512"
     },
     "user_tz": -60
    },
    "id": "h02zJ9JAeZWz",
    "outputId": "7a8b1e3b-86df-48e9-9560-b9d385d2c766"
   },
   "outputs": [
    {
     "name": "stdout",
     "output_type": "stream",
     "text": [
      "[[-0.7 -0.7]\n",
      " [-0.7  0.7]]\n"
     ]
    }
   ],
   "source": [
    "print(np.round(U, decimals=1))"
   ]
  },
  {
   "cell_type": "code",
   "execution_count": 15,
   "metadata": {
    "colab": {
     "base_uri": "https://localhost:8080/"
    },
    "executionInfo": {
     "elapsed": 10,
     "status": "ok",
     "timestamp": 1746784639537,
     "user": {
      "displayName": "Sepahrad Salour",
      "userId": "05630196790215108512"
     },
     "user_tz": -60
    },
    "id": "u3v-6ZifebFg",
    "outputId": "6203a42e-0973-40f8-d1d5-430de8e59e1f"
   },
   "outputs": [
    {
     "name": "stdout",
     "output_type": "stream",
     "text": [
      "[3.5 3.2]\n"
     ]
    }
   ],
   "source": [
    "print(np.round(S, decimals=1))"
   ]
  },
  {
   "cell_type": "code",
   "execution_count": 17,
   "metadata": {
    "colab": {
     "base_uri": "https://localhost:8080/"
    },
    "executionInfo": {
     "elapsed": 3,
     "status": "ok",
     "timestamp": 1746784864173,
     "user": {
      "displayName": "Sepahrad Salour",
      "userId": "05630196790215108512"
     },
     "user_tz": -60
    },
    "id": "oOMz1sP0ebbA",
    "outputId": "c682bcc7-8ed5-4131-85f8-880f2637c38a"
   },
   "outputs": [
    {
     "name": "stdout",
     "output_type": "stream",
     "text": [
      "[[-0.4 -0.8 -0.4]\n",
      " [-0.9  0.4  0. ]\n",
      " [-0.2 -0.4  0.9]]\n"
     ]
    }
   ],
   "source": [
    "print(np.round(Vt, 1))"
   ]
  },
  {
   "cell_type": "code",
   "execution_count": 20,
   "metadata": {
    "executionInfo": {
     "elapsed": 2,
     "status": "ok",
     "timestamp": 1746785762129,
     "user": {
      "displayName": "Sepahrad Salour",
      "userId": "05630196790215108512"
     },
     "user_tz": -60
    },
    "id": "imsjB2HZecp_"
   },
   "outputs": [],
   "source": [
    "S = np.array([[3.5, 0, 0],\n",
    "              [0, 3.2, 0]])"
   ]
  },
  {
   "cell_type": "code",
   "execution_count": 21,
   "metadata": {
    "executionInfo": {
     "elapsed": 2,
     "status": "ok",
     "timestamp": 1746785777393,
     "user": {
      "displayName": "Sepahrad Salour",
      "userId": "05630196790215108512"
     },
     "user_tz": -60
    },
    "id": "8ITB6v54izfh"
   },
   "outputs": [],
   "source": [
    "X = np.dot(U, np.dot(S, Vt))"
   ]
  },
  {
   "cell_type": "code",
   "execution_count": 23,
   "metadata": {
    "colab": {
     "base_uri": "https://localhost:8080/"
    },
    "executionInfo": {
     "elapsed": 43,
     "status": "ok",
     "timestamp": 1746785784527,
     "user": {
      "displayName": "Sepahrad Salour",
      "userId": "05630196790215108512"
     },
     "user_tz": -60
    },
    "id": "LSJllacZi7Zu",
    "outputId": "54e7894f-c08c-4b80-a101-f2d5badd9e3e"
   },
   "outputs": [
    {
     "data": {
      "text/plain": [
       "array([[ 3.,  1.,  1.],\n",
       "       [-1.,  3.,  1.]])"
      ]
     },
     "execution_count": 23,
     "metadata": {},
     "output_type": "execute_result"
    }
   ],
   "source": [
    "np.round(X, 1)"
   ]
  },
  {
   "cell_type": "code",
   "execution_count": 24,
   "metadata": {
    "colab": {
     "base_uri": "https://localhost:8080/"
    },
    "executionInfo": {
     "elapsed": 7,
     "status": "ok",
     "timestamp": 1746785795368,
     "user": {
      "displayName": "Sepahrad Salour",
      "userId": "05630196790215108512"
     },
     "user_tz": -60
    },
    "id": "_nmioocgi8AV",
    "outputId": "da545ea2-bd5c-474b-9037-cd16c3935a18"
   },
   "outputs": [
    {
     "data": {
      "text/plain": [
       "array([[ 3,  1,  1],\n",
       "       [-1,  3,  1]])"
      ]
     },
     "execution_count": 24,
     "metadata": {},
     "output_type": "execute_result"
    }
   ],
   "source": [
    "A"
   ]
  },
  {
   "cell_type": "code",
   "execution_count": null,
   "metadata": {
    "id": "8AHt8m_Mi_yh"
   },
   "outputs": [],
   "source": []
  }
 ],
 "metadata": {
  "colab": {
   "authorship_tag": "ABX9TyNIMAHxGhA+Y7V0yJ6L8Tdg",
   "provenance": []
  },
  "kernelspec": {
   "display_name": "Python 3",
   "name": "python3"
  },
  "language_info": {
   "name": "python"
  }
 },
 "nbformat": 4,
 "nbformat_minor": 0
}
