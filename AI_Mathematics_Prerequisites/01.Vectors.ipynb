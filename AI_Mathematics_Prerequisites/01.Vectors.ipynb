{
 "cells": [
  {
   "cell_type": "code",
   "execution_count": 1,
   "metadata": {
    "executionInfo": {
     "elapsed": 16,
     "status": "ok",
     "timestamp": 1740232315795,
     "user": {
      "displayName": "Sepahrad Salour",
      "userId": "05630196790215108512"
     },
     "user_tz": 0
    },
    "id": "ieO37o71Dcd0"
   },
   "outputs": [],
   "source": [
    "import numpy as np"
   ]
  },
  {
   "cell_type": "code",
   "execution_count": 2,
   "metadata": {
    "colab": {
     "base_uri": "https://localhost:8080/"
    },
    "executionInfo": {
     "elapsed": 11,
     "status": "ok",
     "timestamp": 1740232315813,
     "user": {
      "displayName": "Sepahrad Salour",
      "userId": "05630196790215108512"
     },
     "user_tz": 0
    },
    "id": "--rTmrtvFAEq",
    "outputId": "b9ae815f-b64f-40f9-d48f-61d4ea48b1e6"
   },
   "outputs": [
    {
     "name": "stdout",
     "output_type": "stream",
     "text": [
      "[1 2]\n"
     ]
    }
   ],
   "source": [
    "a = np.array([1, 2])\n",
    "print(a)"
   ]
  },
  {
   "cell_type": "code",
   "execution_count": 3,
   "metadata": {
    "colab": {
     "base_uri": "https://localhost:8080/"
    },
    "executionInfo": {
     "elapsed": 6,
     "status": "ok",
     "timestamp": 1740232315900,
     "user": {
      "displayName": "Sepahrad Salour",
      "userId": "05630196790215108512"
     },
     "user_tz": 0
    },
    "id": "MUsFn1f9FNSZ",
    "outputId": "37df77d7-d7f8-41ed-fe28-e9db92930136"
   },
   "outputs": [
    {
     "data": {
      "text/plain": [
       "numpy.ndarray"
      ]
     },
     "execution_count": 3,
     "metadata": {},
     "output_type": "execute_result"
    }
   ],
   "source": [
    "type(a)\n"
   ]
  },
  {
   "cell_type": "code",
   "execution_count": 4,
   "metadata": {
    "colab": {
     "base_uri": "https://localhost:8080/"
    },
    "executionInfo": {
     "elapsed": 4,
     "status": "ok",
     "timestamp": 1740232315901,
     "user": {
      "displayName": "Sepahrad Salour",
      "userId": "05630196790215108512"
     },
     "user_tz": 0
    },
    "id": "4vrlL-O3GBo-",
    "outputId": "f2ef9723-0b1b-4c03-f082-79dcdb7301e8"
   },
   "outputs": [
    {
     "data": {
      "text/plain": [
       "2"
      ]
     },
     "execution_count": 4,
     "metadata": {},
     "output_type": "execute_result"
    }
   ],
   "source": [
    "len(a)"
   ]
  },
  {
   "cell_type": "code",
   "execution_count": 5,
   "metadata": {
    "colab": {
     "base_uri": "https://localhost:8080/"
    },
    "executionInfo": {
     "elapsed": 4,
     "status": "ok",
     "timestamp": 1740232315903,
     "user": {
      "displayName": "Sepahrad Salour",
      "userId": "05630196790215108512"
     },
     "user_tz": 0
    },
    "id": "Kl83QA7GFQt3",
    "outputId": "23443dba-decb-45d5-caf6-ff95f36400ba"
   },
   "outputs": [
    {
     "data": {
      "text/plain": [
       "1"
      ]
     },
     "execution_count": 5,
     "metadata": {},
     "output_type": "execute_result"
    }
   ],
   "source": [
    "a[0]"
   ]
  },
  {
   "cell_type": "code",
   "execution_count": 6,
   "metadata": {
    "executionInfo": {
     "elapsed": 8,
     "status": "ok",
     "timestamp": 1740232315912,
     "user": {
      "displayName": "Sepahrad Salour",
      "userId": "05630196790215108512"
     },
     "user_tz": 0
    },
    "id": "mOjnZr1aFybw"
   },
   "outputs": [],
   "source": [
    "b = np.array([3, 4])"
   ]
  },
  {
   "cell_type": "code",
   "execution_count": 7,
   "metadata": {
    "colab": {
     "base_uri": "https://localhost:8080/"
    },
    "executionInfo": {
     "elapsed": 16,
     "status": "ok",
     "timestamp": 1740232315929,
     "user": {
      "displayName": "Sepahrad Salour",
      "userId": "05630196790215108512"
     },
     "user_tz": 0
    },
    "id": "KwHiYdseGJFO",
    "outputId": "1104d90f-b45e-4189-e75c-4c54953d5153"
   },
   "outputs": [
    {
     "name": "stdout",
     "output_type": "stream",
     "text": [
      "[3 4]\n"
     ]
    }
   ],
   "source": [
    "print(b)"
   ]
  },
  {
   "cell_type": "code",
   "execution_count": 8,
   "metadata": {
    "colab": {
     "base_uri": "https://localhost:8080/"
    },
    "executionInfo": {
     "elapsed": 4,
     "status": "ok",
     "timestamp": 1740232315932,
     "user": {
      "displayName": "Sepahrad Salour",
      "userId": "05630196790215108512"
     },
     "user_tz": 0
    },
    "id": "DQ6FV3qtGKa_",
    "outputId": "ca0a097f-ea80-4cf8-de4c-7849ffeecb13"
   },
   "outputs": [
    {
     "name": "stdout",
     "output_type": "stream",
     "text": [
      "[1 2] [3 4]\n"
     ]
    }
   ],
   "source": [
    "print(a, b)"
   ]
  },
  {
   "cell_type": "code",
   "execution_count": 9,
   "metadata": {
    "colab": {
     "base_uri": "https://localhost:8080/"
    },
    "executionInfo": {
     "elapsed": 15,
     "status": "ok",
     "timestamp": 1740232315947,
     "user": {
      "displayName": "Sepahrad Salour",
      "userId": "05630196790215108512"
     },
     "user_tz": 0
    },
    "id": "EihH_yKvGQrl",
    "outputId": "8a7fea04-eaa4-40cb-e2c5-30f7efbcd2fd"
   },
   "outputs": [
    {
     "data": {
      "text/plain": [
       "array([4, 6])"
      ]
     },
     "execution_count": 9,
     "metadata": {},
     "output_type": "execute_result"
    }
   ],
   "source": [
    "a + b"
   ]
  },
  {
   "cell_type": "code",
   "execution_count": 10,
   "metadata": {
    "colab": {
     "base_uri": "https://localhost:8080/"
    },
    "executionInfo": {
     "elapsed": 49,
     "status": "ok",
     "timestamp": 1740232315996,
     "user": {
      "displayName": "Sepahrad Salour",
      "userId": "05630196790215108512"
     },
     "user_tz": 0
    },
    "id": "T8g4WhpkGUAf",
    "outputId": "c6dbd440-6405-4e36-e7ca-16772111a7f4"
   },
   "outputs": [
    {
     "data": {
      "text/plain": [
       "array([4, 6])"
      ]
     },
     "execution_count": 10,
     "metadata": {},
     "output_type": "execute_result"
    }
   ],
   "source": [
    "np.add(a, b)"
   ]
  },
  {
   "cell_type": "code",
   "execution_count": 11,
   "metadata": {
    "colab": {
     "base_uri": "https://localhost:8080/"
    },
    "executionInfo": {
     "elapsed": 26,
     "status": "ok",
     "timestamp": 1740232316022,
     "user": {
      "displayName": "Sepahrad Salour",
      "userId": "05630196790215108512"
     },
     "user_tz": 0
    },
    "id": "MowObjsEGelH",
    "outputId": "ed2dc1d7-0cfc-4260-dbcc-f4ccfca3db61"
   },
   "outputs": [
    {
     "data": {
      "text/plain": [
       "array([3, 8])"
      ]
     },
     "execution_count": 11,
     "metadata": {},
     "output_type": "execute_result"
    }
   ],
   "source": [
    "np.multiply(a, b)"
   ]
  },
  {
   "cell_type": "code",
   "execution_count": 12,
   "metadata": {
    "colab": {
     "base_uri": "https://localhost:8080/"
    },
    "executionInfo": {
     "elapsed": 12,
     "status": "ok",
     "timestamp": 1740232316035,
     "user": {
      "displayName": "Sepahrad Salour",
      "userId": "05630196790215108512"
     },
     "user_tz": 0
    },
    "id": "OkuU377YGszh",
    "outputId": "4ea83627-c9e8-4353-a797-3c49d98c87ec"
   },
   "outputs": [
    {
     "data": {
      "text/plain": [
       "array([2, 4])"
      ]
     },
     "execution_count": 12,
     "metadata": {},
     "output_type": "execute_result"
    }
   ],
   "source": [
    "np.dot(2, a)"
   ]
  },
  {
   "cell_type": "code",
   "execution_count": 13,
   "metadata": {
    "colab": {
     "base_uri": "https://localhost:8080/"
    },
    "executionInfo": {
     "elapsed": 5,
     "status": "ok",
     "timestamp": 1740232399457,
     "user": {
      "displayName": "Sepahrad Salour",
      "userId": "05630196790215108512"
     },
     "user_tz": 0
    },
    "id": "zZA48LdvGxnN",
    "outputId": "4d0d44b2-22b9-4500-fd42-0a440ea1a0fd"
   },
   "outputs": [
    {
     "data": {
      "text/plain": [
       "11"
      ]
     },
     "execution_count": 13,
     "metadata": {},
     "output_type": "execute_result"
    }
   ],
   "source": [
    "a = np.array([1, 2])\n",
    "b = np.array([3, 4])\n",
    "np.dot(a, b) # It's vector not matrix"
   ]
  },
  {
   "cell_type": "code",
   "execution_count": null,
   "metadata": {
    "colab": {
     "base_uri": "https://localhost:8080/"
    },
    "executionInfo": {
     "elapsed": 15,
     "status": "ok",
     "timestamp": 1740232777385,
     "user": {
      "displayName": "Sepahrad Salour",
      "userId": "05630196790215108512"
     },
     "user_tz": 0
    },
    "id": "hxn6iYcY9MKq",
    "outputId": "c760b1ff-329e-40ed-ea89-1ed9d986f5e3"
   },
   "outputs": [
    {
     "data": {
      "text/plain": [
       "array([3, 8])"
      ]
     },
     "execution_count": 14,
     "metadata": {},
     "output_type": "execute_result"
    }
   ],
   "source": [
    "a = np.array([1, 2])\n",
    "b = np.array([3, 4])\n",
    "np.multiply(a, b)"
   ]
  },
  {
   "cell_type": "code",
   "execution_count": 15,
   "metadata": {
    "colab": {
     "base_uri": "https://localhost:8080/"
    },
    "executionInfo": {
     "elapsed": 11,
     "status": "ok",
     "timestamp": 1740232463942,
     "user": {
      "displayName": "Sepahrad Salour",
      "userId": "05630196790215108512"
     },
     "user_tz": 0
    },
    "id": "_1s-6rGO73mG",
    "outputId": "8e3b244e-d1ea-47fc-85f5-da12030597de"
   },
   "outputs": [
    {
     "data": {
      "text/plain": [
       "array([[11, 10],\n",
       "       [10, 11]])"
      ]
     },
     "execution_count": 15,
     "metadata": {},
     "output_type": "execute_result"
    }
   ],
   "source": [
    "a = np.array([[1, 2], [2, 1]])\n",
    "b = np.array([[3, 4], [4, 3]])\n",
    "np.dot(a, b)"
   ]
  },
  {
   "cell_type": "code",
   "execution_count": null,
   "metadata": {
    "colab": {
     "base_uri": "https://localhost:8080/"
    },
    "executionInfo": {
     "elapsed": 3,
     "status": "ok",
     "timestamp": 1740232316107,
     "user": {
      "displayName": "Sepahrad Salour",
      "userId": "05630196790215108512"
     },
     "user_tz": 0
    },
    "id": "_v55-zMoG6jP",
    "outputId": "a780de7f-ade2-489d-cefd-e8133e84dbb0"
   },
   "outputs": [
    {
     "data": {
      "text/plain": [
       "3.1622776601683795"
      ]
     },
     "execution_count": 16,
     "metadata": {},
     "output_type": "execute_result"
    }
   ],
   "source": [
    "np.linalg.norm(a)"
   ]
  },
  {
   "cell_type": "code",
   "execution_count": 17,
   "metadata": {
    "colab": {
     "base_uri": "https://localhost:8080/"
    },
    "executionInfo": {
     "elapsed": 2,
     "status": "ok",
     "timestamp": 1740232316110,
     "user": {
      "displayName": "Sepahrad Salour",
      "userId": "05630196790215108512"
     },
     "user_tz": 0
    },
    "id": "hHOZbyiNHaix",
    "outputId": "1f100d57-884b-4c9e-a919-17d081846775"
   },
   "outputs": [
    {
     "data": {
      "text/plain": [
       "3.7416573867739413"
      ]
     },
     "execution_count": 17,
     "metadata": {},
     "output_type": "execute_result"
    }
   ],
   "source": [
    "x = np.array([1, 2, 3])\n",
    "np.linalg.norm(x)"
   ]
  },
  {
   "cell_type": "code",
   "execution_count": 18,
   "metadata": {
    "executionInfo": {
     "elapsed": 0,
     "status": "ok",
     "timestamp": 1740232316110,
     "user": {
      "displayName": "Sepahrad Salour",
      "userId": "05630196790215108512"
     },
     "user_tz": 0
    },
    "id": "IVJYCPVoHki7"
   },
   "outputs": [],
   "source": [
    "import matplotlib.pyplot as plt"
   ]
  },
  {
   "cell_type": "code",
   "execution_count": 19,
   "metadata": {
    "colab": {
     "base_uri": "https://localhost:8080/",
     "height": 452
    },
    "executionInfo": {
     "elapsed": 834,
     "status": "ok",
     "timestamp": 1740232316945,
     "user": {
      "displayName": "Sepahrad Salour",
      "userId": "05630196790215108512"
     },
     "user_tz": 0
    },
    "id": "uE5_czIoHpc_",
    "outputId": "2e971ac4-0d76-4252-c40c-02568fa40e0e"
   },
   "outputs": [
    {
     "data": {
      "text/plain": [
       "Text(3, 4, '$\\\\vec{u}$')"
      ]
     },
     "execution_count": 19,
     "metadata": {},
     "output_type": "execute_result"
    },
    {
     "data": {
      "image/png": "[encoded data removed]",
      "text/plain": [
       "<Figure size 640x480 with 1 Axes>"
      ]
     },
     "metadata": {},
     "output_type": "display_data"
    }
   ],
   "source": [
    "plt.quiver(3, 4, angles='xy', scale_units='xy', scale=1)\n",
    "plt.xlim(0, 5)\n",
    "plt.ylim(0, 5)\n",
    "plt.text(3, 4, r'$\\vec{u}$', size=25)"
   ]
  },
  {
   "cell_type": "code",
   "execution_count": 20,
   "metadata": {
    "executionInfo": {
     "elapsed": 2,
     "status": "ok",
     "timestamp": 1740232316945,
     "user": {
      "displayName": "Sepahrad Salour",
      "userId": "05630196790215108512"
     },
     "user_tz": 0
    },
    "id": "wjtzgqnmHxKq"
   },
   "outputs": [],
   "source": [
    "a = np.array([3, 4])\n",
    "b = np.array([7, 2])\n",
    "c = a + b"
   ]
  },
  {
   "cell_type": "code",
   "execution_count": 21,
   "metadata": {
    "colab": {
     "base_uri": "https://localhost:8080/",
     "height": 452
    },
    "executionInfo": {
     "elapsed": 773,
     "status": "ok",
     "timestamp": 1740232317717,
     "user": {
      "displayName": "Sepahrad Salour",
      "userId": "05630196790215108512"
     },
     "user_tz": 0
    },
    "id": "BpEHgvpVI8Cv",
    "outputId": "a1b61e89-8ff2-4031-c9e9-1ab24b36da68"
   },
   "outputs": [
    {
     "data": {
      "text/plain": [
       "Text(10, 6, '$\\\\vec{c}$')"
      ]
     },
     "execution_count": 21,
     "metadata": {},
     "output_type": "execute_result"
    },
    {
     "data": {
      "image/png": "[encoded data removed]",
      "text/plain": [
       "<Figure size 640x480 with 1 Axes>"
      ]
     },
     "metadata": {},
     "output_type": "display_data"
    }
   ],
   "source": [
    "plt.quiver(a[0], a[1], angles='xy', scale_units='xy', scale=1)\n",
    "plt.quiver(b[0], b[1], angles='xy', scale_units='xy', scale=1)\n",
    "plt.quiver(c[0], c[1], angles='xy', scale_units='xy', scale=1, color='r')\n",
    "\n",
    "plt.xlim(0, 12)\n",
    "plt.ylim(0, 7)\n",
    "\n",
    "plt.text(a[0], a[1], r'$\\vec{a}$', size=15)\n",
    "plt.text(b[0], b[1], r'$\\vec{b}$', size=15)\n",
    "plt.text(c[0], c[1], r'$\\vec{c}$', size=15, color = 'r')"
   ]
  },
  {
   "cell_type": "code",
   "execution_count": 22,
   "metadata": {
    "executionInfo": {
     "elapsed": 2,
     "status": "ok",
     "timestamp": 1740232317720,
     "user": {
      "displayName": "Sepahrad Salour",
      "userId": "05630196790215108512"
     },
     "user_tz": 0
    },
    "id": "jwkmM-AdJPOl"
   },
   "outputs": [],
   "source": [
    "a = np.array([3, 4])\n",
    "b = np.array([7, 2])\n",
    "d = a - b"
   ]
  },
  {
   "cell_type": "code",
   "execution_count": 23,
   "metadata": {
    "colab": {
     "base_uri": "https://localhost:8080/",
     "height": 452
    },
    "executionInfo": {
     "elapsed": 1047,
     "status": "ok",
     "timestamp": 1740232318768,
     "user": {
      "displayName": "Sepahrad Salour",
      "userId": "05630196790215108512"
     },
     "user_tz": 0
    },
    "id": "ZuqyI6gOJpFr",
    "outputId": "d56db37e-ffe5-4486-a09f-173eb75ebb7b"
   },
   "outputs": [
    {
     "data": {
      "text/plain": [
       "Text(-4, 2, '$\\\\vec{c}$')"
      ]
     },
     "execution_count": 23,
     "metadata": {},
     "output_type": "execute_result"
    },
    {
     "data": {
      "image/png": "[encoded data removed]",
      "text/plain": [
       "<Figure size 640x480 with 1 Axes>"
      ]
     },
     "metadata": {},
     "output_type": "display_data"
    }
   ],
   "source": [
    "plt.quiver(a[0], a[1], angles='xy', scale_units='xy', scale=1)\n",
    "plt.quiver(b[0], b[1], angles='xy', scale_units='xy', scale=1)\n",
    "plt.quiver(d[0], d[1], angles='xy', scale_units='xy', scale=1, color='r')\n",
    "\n",
    "plt.xlim(-5, 9)\n",
    "plt.ylim(-1, 5)\n",
    "\n",
    "plt.axvline(x=0, color='gray')\n",
    "plt.axhline(y=0, color='gray')\n",
    "\n",
    "plt.text(a[0], a[1], r'$\\vec{a}$', size=15)\n",
    "plt.text(b[0], b[1], r'$\\vec{b}$', size=15)\n",
    "plt.text(d[0], d[1], r'$\\vec{c}$', size=15, color = 'r')"
   ]
  }
 ],
 "metadata": {
  "colab": {
   "authorship_tag": "ABX9TyMwCpY6xBJR56/yCcirK9MC",
   "provenance": []
  },
  "kernelspec": {
   "display_name": "base",
   "language": "python",
   "name": "python3"
  },
  "language_info": {
   "codemirror_mode": {
    "name": "ipython",
    "version": 3
   },
   "file_extension": ".py",
   "mimetype": "text/x-python",
   "name": "python",
   "nbconvert_exporter": "python",
   "pygments_lexer": "ipython3",
   "version": "3.12.7"
  }
 },
 "nbformat": 4,
 "nbformat_minor": 0
}
