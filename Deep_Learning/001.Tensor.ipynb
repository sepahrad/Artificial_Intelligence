{
 "cells": [
  {
   "cell_type": "code",
   "execution_count": 2,
   "id": "6ca5bbac",
   "metadata": {},
   "outputs": [
    {
     "data": {
      "text/plain": [
       "'2.19.0'"
      ]
     },
     "execution_count": 2,
     "metadata": {},
     "output_type": "execute_result"
    }
   ],
   "source": [
    "import tensorflow as tf\n",
    "tf.__version__"
   ]
  },
  {
   "cell_type": "code",
   "execution_count": null,
   "id": "4a15bb59",
   "metadata": {},
   "outputs": [
    {
     "name": "stdout",
     "output_type": "stream",
     "text": [
      "tf.Tensor(4, shape=(), dtype=int32)\n",
      "()\n",
      "0\n"
     ]
    }
   ],
   "source": [
    "# Scalar\n",
    "x = tf.constant(10)\n",
    "print(x)\n",
    "print(x.shape)\n",
    "print(x.ndim)"
   ]
  },
  {
   "cell_type": "code",
   "execution_count": null,
   "id": "0a2e6fcc",
   "metadata": {},
   "outputs": [
    {
     "name": "stdout",
     "output_type": "stream",
     "text": [
      "tf.Tensor([1 2 3], shape=(3,), dtype=int32)\n",
      "(3,)\n",
      "1\n"
     ]
    }
   ],
   "source": [
    "# Vector\n",
    "y = tf.constant([1, 2, 3])\n",
    "print(y)\n",
    "print(y.shape)\n",
    "print(y.ndim)"
   ]
  },
  {
   "cell_type": "code",
   "execution_count": 24,
   "id": "c18a8766",
   "metadata": {},
   "outputs": [
    {
     "name": "stdout",
     "output_type": "stream",
     "text": [
      "tf.Tensor(\n",
      "[[1 2 3]\n",
      " [4 5 6]], shape=(2, 3), dtype=int32)\n",
      "(2, 3)\n",
      "2\n"
     ]
    }
   ],
   "source": [
    "# Matrix\n",
    "u = tf.constant([[1, 2, 3], \n",
    "                 [4, 5, 6]])\n",
    "print(u)\n",
    "print(u.shape)\n",
    "print(u.ndim)"
   ]
  },
  {
   "cell_type": "code",
   "execution_count": 3,
   "id": "ee7a9a7c",
   "metadata": {},
   "outputs": [],
   "source": [
    "u = tf.constant([[1, 2, 3], [4, 5, 6]])\n",
    "v = tf.constant([[7, 8, 9], [10, 11, 12]])"
   ]
  },
  {
   "cell_type": "code",
   "execution_count": 4,
   "id": "eff475be",
   "metadata": {},
   "outputs": [
    {
     "name": "stdout",
     "output_type": "stream",
     "text": [
      "tf.Tensor(\n",
      "[[ 8 10 12]\n",
      " [14 16 18]], shape=(2, 3), dtype=int32)\n"
     ]
    }
   ],
   "source": [
    "print(u + v)"
   ]
  },
  {
   "cell_type": "code",
   "execution_count": 6,
   "id": "c79121a0",
   "metadata": {},
   "outputs": [
    {
     "name": "stdout",
     "output_type": "stream",
     "text": [
      "tf.Tensor(\n",
      "[[ 4  8 12]\n",
      " [16 20 24]], shape=(2, 3), dtype=int32)\n"
     ]
    }
   ],
   "source": [
    "print(tf.constant(4) * u)"
   ]
  },
  {
   "cell_type": "code",
   "execution_count": 7,
   "id": "6c46b940",
   "metadata": {},
   "outputs": [
    {
     "name": "stdout",
     "output_type": "stream",
     "text": [
      "tf.Tensor(\n",
      "[[ 7 16 27]\n",
      " [40 55 72]], shape=(2, 3), dtype=int32)\n"
     ]
    }
   ],
   "source": [
    "print(u * v)"
   ]
  },
  {
   "cell_type": "code",
   "execution_count": 14,
   "id": "a9a54eb7",
   "metadata": {},
   "outputs": [
    {
     "name": "stdout",
     "output_type": "stream",
     "text": [
      "tf.Tensor(\n",
      "[[47 52 57]\n",
      " [64 71 78]\n",
      " [81 90 99]], shape=(3, 3), dtype=int32)\n"
     ]
    }
   ],
   "source": [
    "x = tf.matmul(u, v, transpose_a=True)\n",
    "print(x)"
   ]
  },
  {
   "cell_type": "code",
   "execution_count": 17,
   "id": "8983440b",
   "metadata": {},
   "outputs": [
    {
     "data": {
      "text/plain": [
       "<tf.Tensor: shape=(2, 2), dtype=int32, numpy=\n",
       "array([[ 50,  68],\n",
       "       [122, 167]])>"
      ]
     },
     "execution_count": 17,
     "metadata": {},
     "output_type": "execute_result"
    }
   ],
   "source": [
    "u @ tf.transpose(v)"
   ]
  },
  {
   "cell_type": "code",
   "execution_count": 18,
   "id": "75fdd2da",
   "metadata": {},
   "outputs": [
    {
     "data": {
      "text/plain": [
       "<tf.Tensor: shape=(2, 2), dtype=int32, numpy=\n",
       "array([[ 50, 122],\n",
       "       [ 68, 167]])>"
      ]
     },
     "execution_count": 18,
     "metadata": {},
     "output_type": "execute_result"
    }
   ],
   "source": [
    "v @ tf.transpose(u)"
   ]
  },
  {
   "cell_type": "code",
   "execution_count": 29,
   "id": "61d39807",
   "metadata": {},
   "outputs": [
    {
     "name": "stdout",
     "output_type": "stream",
     "text": [
      "tf.Tensor(\n",
      "[ 1.  2.  3.  4.  5.  6.  7.  8.  9. 10. 11. 12. 13. 14. 15. 16. 17. 18.\n",
      " 19. 20. 21. 22. 23. 24. 25. 26. 27. 28. 29. 30. 31. 32. 33. 34. 35. 36.\n",
      " 37. 38. 39. 40. 41. 42. 43. 44. 45. 46. 47. 48. 49. 50. 51. 52. 53. 54.\n",
      " 55. 56. 57. 58. 59. 60.], shape=(60,), dtype=float64)\n"
     ]
    }
   ],
   "source": [
    "# Tensor\n",
    "A = tf.linspace(1, 60, 60)\n",
    "print(A)"
   ]
  },
  {
   "cell_type": "code",
   "execution_count": 30,
   "id": "14fd6331",
   "metadata": {},
   "outputs": [
    {
     "name": "stdout",
     "output_type": "stream",
     "text": [
      "tf.Tensor(\n",
      "[[[ 1.  2.  3.  4.  5.  6.]\n",
      "  [ 7.  8.  9. 10. 11. 12.]]\n",
      "\n",
      " [[13. 14. 15. 16. 17. 18.]\n",
      "  [19. 20. 21. 22. 23. 24.]]\n",
      "\n",
      " [[25. 26. 27. 28. 29. 30.]\n",
      "  [31. 32. 33. 34. 35. 36.]]\n",
      "\n",
      " [[37. 38. 39. 40. 41. 42.]\n",
      "  [43. 44. 45. 46. 47. 48.]]\n",
      "\n",
      " [[49. 50. 51. 52. 53. 54.]\n",
      "  [55. 56. 57. 58. 59. 60.]]], shape=(5, 2, 6), dtype=float64)\n"
     ]
    }
   ],
   "source": [
    "A = tf.reshape(A, shape=(5, 2, 6))\n",
    "print(A)"
   ]
  },
  {
   "cell_type": "code",
   "execution_count": 31,
   "id": "c75385e4",
   "metadata": {},
   "outputs": [
    {
     "data": {
      "text/plain": [
       "<tf.Tensor: shape=(5, 2, 3, 2), dtype=float64, numpy=\n",
       "array([[[[ 1.,  2.],\n",
       "         [ 3.,  4.],\n",
       "         [ 5.,  6.]],\n",
       "\n",
       "        [[ 7.,  8.],\n",
       "         [ 9., 10.],\n",
       "         [11., 12.]]],\n",
       "\n",
       "\n",
       "       [[[13., 14.],\n",
       "         [15., 16.],\n",
       "         [17., 18.]],\n",
       "\n",
       "        [[19., 20.],\n",
       "         [21., 22.],\n",
       "         [23., 24.]]],\n",
       "\n",
       "\n",
       "       [[[25., 26.],\n",
       "         [27., 28.],\n",
       "         [29., 30.]],\n",
       "\n",
       "        [[31., 32.],\n",
       "         [33., 34.],\n",
       "         [35., 36.]]],\n",
       "\n",
       "\n",
       "       [[[37., 38.],\n",
       "         [39., 40.],\n",
       "         [41., 42.]],\n",
       "\n",
       "        [[43., 44.],\n",
       "         [45., 46.],\n",
       "         [47., 48.]]],\n",
       "\n",
       "\n",
       "       [[[49., 50.],\n",
       "         [51., 52.],\n",
       "         [53., 54.]],\n",
       "\n",
       "        [[55., 56.],\n",
       "         [57., 58.],\n",
       "         [59., 60.]]]])>"
      ]
     },
     "execution_count": 31,
     "metadata": {},
     "output_type": "execute_result"
    }
   ],
   "source": [
    "tf.reshape(A, shape=(5, 2, 3, 2))"
   ]
  }
 ],
 "metadata": {
  "kernelspec": {
   "display_name": "base",
   "language": "python",
   "name": "python3"
  },
  "language_info": {
   "codemirror_mode": {
    "name": "ipython",
    "version": 3
   },
   "file_extension": ".py",
   "mimetype": "text/x-python",
   "name": "python",
   "nbconvert_exporter": "python",
   "pygments_lexer": "ipython3",
   "version": "3.12.7"
  }
 },
 "nbformat": 4,
 "nbformat_minor": 5
}
